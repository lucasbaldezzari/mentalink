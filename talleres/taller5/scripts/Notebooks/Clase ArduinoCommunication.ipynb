{
 "cells": [
  {
   "cell_type": "markdown",
   "id": "808a2637",
   "metadata": {},
   "source": [
    "# Clase ArduinoCommunication (Comunicación serie entre PC y Arduino)\n",
    "\n",
    "El siguiente taller intenta explicar el funcionamiento de la clase *ArduinoCommunication* para comunicar la PC y el <span style=\"color:#F37263\">**Arduino M1**</span>"
   ]
  },
  {
   "cell_type": "markdown",
   "id": "c17ce0df",
   "metadata": {},
   "source": [
    "Importamos librerias a utilizar"
   ]
  },
  {
   "cell_type": "code",
   "execution_count": 1,
   "id": "e21c5d9f",
   "metadata": {},
   "outputs": [],
   "source": [
    "import serial\n",
    "import time"
   ]
  },
  {
   "cell_type": "markdown",
   "id": "7231c587",
   "metadata": {},
   "source": [
    "### Iniciamos codificación para la clase ArduinoCommunication\n",
    "\n",
    "Es importante siempre declarar un *constructor*. Esta función se llama cada vez que se genera un objeto. En nuestro caso, el constructor esta dado por,\n",
    "\n",
    "```python\n",
    "    def __init__(self, port, trialDuration = 6, stimONTime = 4,\n",
    "                 timerFrecuency = 1000, timing = 1, useExternalTimer = False,\n",
    "                 ntrials = 1)\n",
    "```\n",
    "\n",
    "Las variables del constructor se usan dentro del objeto para inicializar parámetros o atributos de la clase.\n",
    "\n",
    "A modo de ejemplo, con los argumentos *stimONTime, trialDuration y timerFrecuency* seteamos una variable interna a la clase que nos permitirá llevar a cabo el control de cuanto tiempo estarán los estímulos encendidos. Esto lo hacemos de la siguiente manera,\n",
    "\n",
    "```python\n",
    "self.stimOFFTime = int((trialDuration - stimONTime))/timing*timerFrecuency\n",
    "```\n",
    "\n",
    "La variable *port* es un *string* y lo usaremos para decirle en qué puerto estará conectado nuestro Arduino.\n",
    "\n",
    "La conexión con el puerte serie la iniciamos haciendo,\n",
    "```python\n",
    "self.dev = serial.Serial(port, baudrate=19200)\n",
    "```"
   ]
  },
  {
   "cell_type": "code",
   "execution_count": 2,
   "id": "be795be5",
   "metadata": {},
   "outputs": [],
   "source": [
    "class ArduinoCommunication:\n",
    "    \"\"\"Clase para comunicación entre Arduino y PC utilizando la libreria PYSerial.\n",
    "        Constructor del objeto ArduinoCommunication\n",
    "        \n",
    "        Parametros\n",
    "        ----------\n",
    "        port: String\n",
    "            Puerto serie por el cual nos conectaremos\n",
    "        trialDuration: int\n",
    "            Duración total de un trial [en segundos]\n",
    "        stimONTime: int\n",
    "            Duración total en que los estímulos están encendidos\n",
    "        timerFrecuency: int\n",
    "            Variable para \"simular\" la frecuencia [en Hz] de interrupción del timer\n",
    "        timing: int\n",
    "            Variable para temporizar interrupción - Por defecto es 1[ms]\n",
    "        useExternalTimer: bool\n",
    "            En el caso de querer que el timer funcione con una interrupción externa\n",
    "        ntrials: int\n",
    "            Cantidad de trials a ejecutar. Una vez pasados los ntrials, se deja de transmitir y recibir\n",
    "            información hacia y desde el Arduino - Por defecto el valor es 1[trial] - Si se quisiera una\n",
    "            ejecución por tiempo indeterminado se debe hacer ntrials = None\n",
    "            \n",
    "        Retorna\n",
    "        -------\n",
    "        Nada        \n",
    "    \"\"\"\n",
    "    def __init__(self, port, trialDuration = 6, stimONTime = 4,\n",
    "                 timerFrecuency = 1000, timing = 1, useExternalTimer = False,\n",
    "                 ntrials = 1):\n",
    "        \n",
    "        self.dev = serial.Serial(port, baudrate=19200)\n",
    "        \n",
    "        self.trialDuration =   int((trialDuration*timerFrecuency)/timing) #segundos\n",
    "        self.stimONTime = int((stimONTime*timerFrecuency)/timing) #segundos\n",
    "        self.stimOFFTime = int((trialDuration - stimONTime))/timing*timerFrecuency\n",
    "        self.stimStatus = \"on\"\n",
    "        self.trial = 1\n",
    "        self.trialsNumber = ntrials\n",
    "        \n",
    "        self.sessionStatus = b\"1\" #sesión en marcha\n",
    "        self.stimuliStatus = b\"0\" #los estimulos empiezan apagados\n",
    "        self.moveOrder = b\"0\" #EL robot empieza en STOP\n",
    "        \"\"\"\n",
    "        self.moveOrder\n",
    "        - 0: STOP\n",
    "        - 1: ADELANTE\n",
    "        - 2: DERECHA\n",
    "        - 3: ATRAS\n",
    "        - 4: IZQUIERDA\n",
    "        \"\"\"\n",
    "        self.systemControl = [self.sessionStatus,\n",
    "                             self.stimuliStatus,\n",
    "                             self.moveOrder]\n",
    "         \n",
    "        self.useExternalTimer = useExternalTimer\n",
    "        self.timerEnable = 0\n",
    "        self.timing = timing #en milisegundos\n",
    "        self.timerFrecuency = timerFrecuency #1000Hz\n",
    "        self.initialTime = 0 #tiempo inicial en milisegundos\n",
    "        self.counter = 0\n",
    "        self.timerInteFlag = 0 #flag para la interrupción del timer. DEBE ponerse a 0 para inicar una cuenta nueva.\n",
    "        \n",
    "        time.sleep(2) #esperamos 2 segundos para una correcta conexión"
   ]
  },
  {
   "cell_type": "markdown",
   "id": "beada8f2",
   "metadata": {},
   "source": [
    "#### Definiendo métodos\n",
    "\n",
    "Toda clase posee métodos o funciones que nos dejan interactuar con el objeto creado a partir de ésta. A continuación declaro los métodos de la clase."
   ]
  },
  {
   "cell_type": "code",
   "execution_count": 3,
   "id": "b7e88fd9",
   "metadata": {},
   "outputs": [],
   "source": [
    "    def timer(self):\n",
    "        \"\"\"Función para emular un timer como el de un microcontrolador\"\"\"\n",
    "        if(self.timerInteFlag == 0 and\n",
    "           time.time()*self.timerFrecuency - self.initialTime >= self.timing):\n",
    "            self.initialTime = time.time()*self.timerFrecuency\n",
    "            self.timerInteFlag = 1\n",
    "            \n",
    "    def iniTimer(self):\n",
    "        \"\"\"Iniciamos conteo del timer\"\"\"\n",
    "        self.initialTime = time.time()*1000\n",
    "        self.timerInteFlag = 0"
   ]
  },
  {
   "cell_type": "markdown",
   "id": "da3c71f7",
   "metadata": {},
   "source": [
    "Los métodos *timer()* e *iniTimer()* son dos métodos que le permiten a la clase ArduinoCommunication generar una temporización de los eventos internos a la misma. La idea es generar una interrupción cada cierto tiempo, similar a lo que se hace dentro de un microcontrolador.\n",
    "\n",
    "Si se analiza el método *timer()* puede verse que su implementación es sencilla, aunque podría optimizarse. "
   ]
  },
  {
   "cell_type": "markdown",
   "id": "3084f763",
   "metadata": {},
   "source": [
    "##### Enviando un byte: Método *query()*\n",
    "\n",
    "Este método nos permite enviar un *byte* por el puerto serie de la PC al Arduino.\n",
    "\n",
    "Cada vez que enviamos un byte -dado por el argumeno *message*- vamos a recibir una cadena de caracteres desde Arduino como respuesta."
   ]
  },
  {
   "cell_type": "code",
   "execution_count": 4,
   "id": "2b2fc04c",
   "metadata": {},
   "outputs": [],
   "source": [
    "    def query(self, byte):\n",
    "        \"\"\"Enviamos un byte a arduinot y recibimos un byte desde arduino\n",
    "        \n",
    "        Parametros\n",
    "        ----------\n",
    "        message (byte):\n",
    "            Byte que se desa enviar por puerto serie.\n",
    "        \"\"\"\n",
    "        self.dev.write(byte)#.encode('ascii')) #enviamos byte por el puerto serie\n",
    "        respuesta = self.dev.readline().decode('ascii').strip() #recibimos una respuesta desde Arduino\n",
    "        \n",
    "        return respuesta"
   ]
  },
  {
   "cell_type": "markdown",
   "id": "8281a42d",
   "metadata": {},
   "source": [
    "##### Enviando un mensaje a través de varios Bytes: Método sendMessage()\n",
    "\n",
    "El método *query()* nos permite enviar **un byte**. Sin embargo, necesitamos enviar varios Bytes. Para esto usaremos el método *sendMessage()* el cual nos permite enviar una cadena de Bytes haciendo uso del método *query()*.\n",
    "\n",
    "Este mensaje contiene información relevante para el Arduino, por ejemeplo, el estado de los estímulos, el comando a enviar al robot, entre otros."
   ]
  },
  {
   "cell_type": "code",
   "execution_count": 5,
   "id": "20a40421",
   "metadata": {},
   "outputs": [],
   "source": [
    "    def sendMessage(self, message):\n",
    "        \"\"\"Función para enviar una lista de bytes con diferentes variables de estado\n",
    "        hacia Arduino. Estas variables sirven para control de flujo del programa del\n",
    "        Arduino.\n",
    "        \"\"\"\n",
    "        incomingData = []\n",
    "        for byte in message:\n",
    "            incomingData.append(self.query(byte))\n",
    "            \n",
    "        return incomingData[-1] #Retorno los últimos bytes recibidos"
   ]
  },
  {
   "cell_type": "markdown",
   "id": "5487fdb1",
   "metadata": {},
   "source": [
    "##### Cerrando comunicación serie\n",
    "\n",
    "Mediante el método *close()* cerramos la comunicación serie y liberamos el puerto COM."
   ]
  },
  {
   "cell_type": "code",
   "execution_count": 6,
   "id": "1453c961",
   "metadata": {},
   "outputs": [],
   "source": [
    "    def close(self):\n",
    "        \"\"\"Cerramos comunicción serie\"\"\"\n",
    "        self.dev.close()"
   ]
  },
  {
   "cell_type": "markdown",
   "id": "45418b0d",
   "metadata": {},
   "source": [
    "##### Iniciando y finializando sesión\n",
    "\n",
    "Es de suma importancia mantener un orden correcto en el flujo de trabajo y conocer el estado interno del sistema. Con la idea de lograr esto, se crearon dos métodos que nos permiten iniciar y finalizar una sesión de trabajo.\n",
    "\n",
    "El método *iniSesion()* lo que hace es inicializar todas las variables asociadas al control de estímulos y movimiento del robot a sus estados iniciales. Así por ejemplo se hace,\n",
    "\n",
    "```python\n",
    "   self.moveOrder = b\"0\" #EL robot empieza en STOP\n",
    "   ```\n",
    "Lo anterior será enviado al <span style=\"color:#F37263\">**Arduino M1**</span> y desde ahí al <span style=\"color:#008a3e\">**Arduino M3**</span>, indicandole al robot el comando *STOP*."
   ]
  },
  {
   "cell_type": "code",
   "execution_count": 7,
   "id": "7631cfc3",
   "metadata": {},
   "outputs": [],
   "source": [
    "    def iniSesion(self):\n",
    "        \"\"\"Se inicia sesión.\"\"\"\n",
    "        \n",
    "        self.sessionStatus = b\"1\" #sesión en marcha\n",
    "        self.stimuliStatus = b\"1\" #encendemos estímulos\n",
    "        self.moveOrder = b\"0\" #EL robot empieza en STOP\n",
    "        \n",
    "        self.systemControl = [self.sessionStatus,\n",
    "                             self.stimuliStatus,\n",
    "                             self.moveOrder]\n",
    "        \n",
    "        estadoRobot = self.sendMessage(self.systemControl)\n",
    "        print(\"Estado inicial del ROBOT:\", estadoRobot)\n",
    "        \n",
    "        self.iniTimer()\n",
    "        print(\"Sesión iniciada\")\n",
    "        print(\"Trial inicial\")\n",
    "\n",
    "        \n",
    "    def endSesion(self):\n",
    "        \"\"\"Se finaliza sesión.\n",
    "            Se envía información a Arduino para finalizar sesión. Se deben tomar acciones en el Arduino\n",
    "            una vez recibido el mensaje.\n",
    "        \"\"\"\n",
    "        \n",
    "        self.sessionStatus = b\"0\" #sesión finalizada\n",
    "        self.stimuliStatus = b\"0\" #finalizo estimulación\n",
    "        self.moveOrder = b\"0\" #Paramos el rebot enviando un STOP\n",
    "        self.systemControl = [self.sessionStatus,\n",
    "                             self.stimuliStatus,\n",
    "                             self.moveOrder]\n",
    "        \n",
    "        estadoRobot = self.sendMessage(self.systemControl)\n",
    "        print(\"Estado final del ROBOT:\", estadoRobot)\n",
    "        print(\"Sesión Finalizada\")\n",
    "        print(f\"Trial final {self.trial - 1}\")"
   ]
  },
  {
   "cell_type": "markdown",
   "id": "93b4a87e",
   "metadata": {},
   "source": [
    "##### Control de trials\n",
    "\n",
    "Recordar que un **Trial** es el tiempo en que *estamos estimulando* más el tiempo que *estamos sin estimular*. Controlaremos todo esto desde Python mediante el método <span style=\"color:blue\">*trialControl()*</span>.\n",
    "\n",
    "Su implementación es sencilla. La variable *self.counter* se incrementa en *1* con cada interrupción generada por el método *timer()*. Cuando *self.counter == self.stimONTime* implica que hemos alcanzado el tiempo que tenemos que estar estimulando y por lo tanto, enviamos un mensaje al <span style=\"color:#F37263\">**Arduino M1**</span> para que apague los estíumulos. Esto lo hacemos así,\n",
    "\n",
    "```python\n",
    "if self.counter == self.stimONTime: #mandamos nuevo mensaje cuando comienza un trial\n",
    "\n",
    "    self.systemControl[1] = b\"0\" #apagamos estímulos\n",
    "    estadoRobot = self.sendMessage(self.systemControl)\n",
    "   ```\n",
    "\n",
    "De manera similiar cuando *self.counter == self.trialDuration* implica que llegamos al final del trial y debemos empezar uno nuevo. Enviamos un mensaje al <span style=\"color:#F37263\">**Arduino M1**</span> para que encienda los estímulos. Esto lo hacemos así,\n",
    "\n",
    "```python\n",
    "if self.counter == self.trialDuration: \n",
    "\n",
    "    self.systemControl[1] = b\"1\"\n",
    "    estadoRobot = self.sendMessage(self.systemControl)\n",
    "    print(f\"Fin trial {self.trial}\")\n",
    "    print(\"\")\n",
    "    self.trial += 1 #incrementamos un trial\n",
    "    self.counter = 0 #reiniciamos timer\n",
    "   ```"
   ]
  },
  {
   "cell_type": "code",
   "execution_count": 8,
   "id": "ab2f36a0",
   "metadata": {},
   "outputs": [],
   "source": [
    "    def trialControl(self):\n",
    "        \"\"\"Función que ayuda a controlar los estímulos en arduino.\n",
    "            - La variable self.counter es utilizada como contador para sincronizar\n",
    "            los momentos en que los estímulos están encendidos o opagados.\n",
    "            - Es IMPORTANTE para un correcto funcionamiento que la variable self.counter\n",
    "            se incremente en 1 de un tiempo adecuado. Para esto se debe tener en cuenta\n",
    "            las variables self.stimONTime y self.trialDuration\n",
    "        \"\"\"\n",
    "\n",
    "        self.counter += 1\n",
    "        \n",
    "        if self.counter == self.stimONTime: #mandamos nuevo mensaje cuando comienza un trial\n",
    "        \n",
    "            self.systemControl[1] = b\"0\" #apagamos estímulos\n",
    "            estadoRobot = self.sendMessage(self.systemControl)\n",
    "             \n",
    "        if self.counter == self.trialDuration: \n",
    "            \n",
    "            self.systemControl[1] = b\"1\"\n",
    "            estadoRobot = self.sendMessage(self.systemControl)\n",
    "            print(f\"Fin trial {self.trial}\")\n",
    "            print(\"\")\n",
    "            self.trial += 1 #incrementamos un trial\n",
    "            self.counter = 0 #reiniciamos timer\n",
    "            \n",
    "        return self.trial"
   ]
  },
  {
   "cell_type": "markdown",
   "id": "782fb732",
   "metadata": {},
   "source": [
    "##### Control general\n",
    "\n",
    "El método *generalControl()* nos sirve para tener un control del flujo de programa.\n",
    "\n",
    "**IMPORTANTE:** En este ejemplo sólo se implementa el control de los trials. Pero en un futuro también estará a cargo de tomar los datos de EEG desde la placa OpenBCI y pasarsela a los módulos de procesamiento y clasificación que se encargarán de obtener un comando para el robot."
   ]
  },
  {
   "cell_type": "code",
   "execution_count": 9,
   "id": "753aef12",
   "metadata": {},
   "outputs": [],
   "source": [
    "    def generalControl(self):\n",
    "        \"\"\"Función para llevar a cabo un control general de los procesos entre PC y Arduino.\"\"\"\n",
    "        \n",
    "        if self.systemControl[0] == b\"1\" and not self.trialsNumber: #Para trials indefinidos\n",
    "            \n",
    "            if not self.useExternalTimer:\n",
    "                self.timer()        \n",
    "                \n",
    "            if self.timerInteFlag: #timerInteFlag se pone en 1 a la cantidad de milisegundos de self.timing\n",
    "                self.trialControl()\n",
    "                self.timerInteFlag = 0 #reiniciamos flag de interrupción\n",
    "                \n",
    "        elif self.systemControl[0] == b\"1\" and self.trial <= self.trialsNumber: #Para cantidad de trials definido\n",
    "            \n",
    "            if not self.useExternalTimer:    \n",
    "                self.timer()   \n",
    "                \n",
    "            if self.timerInteFlag: #timerInteFlag se pone en 1 a la cantidad de milisegundos de self.timing\n",
    "                self.trialControl()\n",
    "                self.timerInteFlag = 0 #reiniciamos flag de interrupción\n",
    "        \n",
    "        else:\n",
    "            self.endSesion()\n",
    "                \n",
    "        return self.sessionStatus"
   ]
  },
  {
   "cell_type": "markdown",
   "id": "1e4bf2a3",
   "metadata": {},
   "source": [
    "### Testeando nuestro código\n",
    "\n",
    "Ahora vamos a hacer una prueba de nuestro código.\n",
    "\n",
    "Instanciamos un objeto ArduinoCommunication y le pasamos como parámetros el puerto *'COM3'*, duración del trial igual a *8 segundos*, duración de estimulación igual a *4 segundos* y número de trials igual a *2*. Esto lo hacemos así,\n",
    "\n",
    "```python\n",
    "    ard = ArduinoCommunication('COM3', trialDuration = 8, stimONTime = 4,\n",
    "                               timing = 100, ntrials = 2)\n",
    "```"
   ]
  },
  {
   "cell_type": "code",
   "execution_count": 10,
   "id": "e82db8f1",
   "metadata": {},
   "outputs": [],
   "source": [
    "def main():\n",
    "    \n",
    "    initialTime = time.time()#/1000\n",
    "\n",
    "    \"\"\"\n",
    "    #creamos un objeto ArduinoCommunication para establecer una conexión\n",
    "    #entre arduino y nuestra PC en el COM3, con un timing de 500ms y esperamos ejecutar\n",
    "    #n trials.\n",
    "    #Pasado estos n trials se finaliza la sesión.\n",
    "    #En el caso de querer ejecutar Trials de manera indeterminada,\n",
    "    #debe hacerse trials = None (default)\n",
    "    \"\"\"\n",
    "    ard = ArduinoCommunication('COM3', trialDuration = 8, stimONTime = 4,\n",
    "                               timing = 100, ntrials = 2)\n",
    "\n",
    "    ard.iniSesion()\n",
    "    \n",
    "    while ard.generalControl() == b\"1\":\n",
    "        pass\n",
    "\n",
    "    #ard.endSesion()   \n",
    "    ard.close() #cerramos comunicación serie y liberamos puerto COM\n",
    "    \n",
    "    stopTime = time.time()#/1000\n",
    "    \n",
    "    print(f\"Tiempo transcurrido en segundos: {stopTime - initialTime}\")"
   ]
  },
  {
   "cell_type": "markdown",
   "id": "9119a1c0",
   "metadata": {},
   "source": [
    "### IMPORTANTE\n",
    "\n",
    "Para poder ejecutar el código, todo debe ser pasado a un archivo .py"
   ]
  }
 ],
 "metadata": {
  "kernelspec": {
   "display_name": "Python [conda env:taller4-BCIC]",
   "language": "python",
   "name": "conda-env-taller4-BCIC-py"
  },
  "language_info": {
   "codemirror_mode": {
    "name": "ipython",
    "version": 3
   },
   "file_extension": ".py",
   "mimetype": "text/x-python",
   "name": "python",
   "nbconvert_exporter": "python",
   "pygments_lexer": "ipython3",
   "version": "3.9.5"
  }
 },
 "nbformat": 4,
 "nbformat_minor": 5
}
