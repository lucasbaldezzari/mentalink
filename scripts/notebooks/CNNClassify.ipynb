{
 "cells": [
  {
   "cell_type": "markdown",
   "id": "ea0cd522",
   "metadata": {},
   "source": [
    "# <span style=\"color:#C70039\">**CNNClassify: Módulo de clasificación mediante CNN**</span>\n",
    "\n",
    "La siguiente notebook muestra el script **CNNClassify.py** versión **SCT-01-RevB**.\n",
    "\n",
    "#### Autor\n",
    "\n",
    "MSc. Bioingeniero BALDEZZARI Lucas\n",
    "\n",
    "### Objetivo principal de este módulo\n",
    "\n",
    "Clasificar Potenciales Evocados de Estado Estacionario (SSVEPs) a partir de señales de EEG utilizando una Convolutional Neural Network previamente entrenada.\n",
    "\n",
    "### Funcionalidades\n",
    "\n",
    "La versión actual del módulo permite,\n",
    "\n",
    "- Cargar un modelo de CNN para clasificar SSVEPS previamente entrenado utilizando el módulo **CNNTrainingModule**\n",
    "- Computar la FFT a partir de datos de EEG para obtener un vector de características. La clase permite computar las features de dos maneras\n",
    "    - Vector de características formado por las *magnitudes* de la parte real de la FFT o bien,\n",
    "    - Vector de características formado por la *partes real e imaginaria* de la FFT. Recordar que la parte compleja de la FFT aporta información acerca de la \"fase\" de los estímulos.\n",
    "- Clasificar y obtener una frecuencia de estimulación a partir de datos de EEG."
   ]
  },
  {
   "cell_type": "markdown",
   "id": "39b4d8eb",
   "metadata": {},
   "source": [
    "## Ejemplo de aplicación: Clasificación de SSVEPs a partir de señales de EEG utilizando una CNN previamente entrenada con el \n",
    "\n",
    "A continuación se muestra un ejemplo de aplicación de la clase **CNNClassify**.\n",
    "\n",
    "Utilizaremos los modelos previamente entrenados mediante **CNNTrainingModule** para crear una CNN y usarla como clasificador de SSVEPs a partir señales de EEG que el clasificador **nunca** ha visto.\n",
    "\n",
    "<span style=\"color:#F37263\">**NOTA: Los pasos descriptos pueden replicarse durante una sesión online para obtener comandos de control.**</span>\n"
   ]
  },
  {
   "cell_type": "markdown",
   "id": "d3cb85d2",
   "metadata": {},
   "source": [
    "##### Importamos algunas librerias que necesitamos"
   ]
  },
  {
   "cell_type": "code",
   "execution_count": 1,
   "id": "d6f86ab8",
   "metadata": {},
   "outputs": [],
   "source": [
    "import os\n",
    "import numpy as np\n",
    "from tqdm import tqdm\n",
    "import pandas as pd\n",
    "\n",
    "import sys\n",
    "sys.path.append(\"E:/reposBCICompetition/BCIC-Personal/scripts/Bases\")\n",
    "\n",
    "# Librerias creadas para la competancia\n",
    "import fileAdmin as fa\n",
    "from CNNClassify import CNNClassify as clasificadorCNN\n",
    "from utils import plotSpectrum, plotOneSpectrum"
   ]
  },
  {
   "cell_type": "markdown",
   "id": "269b4939",
   "metadata": {},
   "source": [
    "### Carga de datos\n",
    "\n",
    "En este ejemplo usaremos los *últimos **3** trials* del set de datos del trabajo *[\"A Comparison Study of Canonical Correlation Analysis Based Methods for Detecting Steady-State Visual Evoked Potentials\" PLoS One, vol.10, no.10, e140703, 2015.](http://journals.plos.org/plosone/article?id=10.1371/journal.pone.0140703)*.\n",
    "\n",
    "##### ¿Por qué los últimos 3 trials?\n",
    "\n",
    "Si revisan la notebook llamada *CNNTrainingModule* podrán ver que utilizamos los primeros 12 trials de los 15 disponibles para entrenar nuestra CNN. Por lo tanto, los últimos 3 trials contienen datos que **nunca antes** la CNN ha visto. Esto es importante para poder corroborar que nuestra CNN clasifica bien.\n",
    "\n",
    "Es posible acceder a los datos desde el siguiente repositorio [mnakanishi\n",
    "/12JFPM_SSVEP](https://github.com/mnakanishi/12JFPM_SSVEP)."
   ]
  },
  {
   "cell_type": "code",
   "execution_count": 2,
   "id": "1d8243c2",
   "metadata": {},
   "outputs": [],
   "source": [
    "import fileAdmin as fa\n",
    "\n",
    "# actualFolder = os.getcwd()#directorio donde estamos actualmente. Debe contener el directorio dataset\n",
    "actualFolder = \"E:/reposBCICompetition/BCIC-Personal/talleres/taller4/scripts\"\n",
    "path = os.path.join(actualFolder,\"dataset\")\n",
    "\n",
    "subjects = [8]\n",
    "subjectsNames = [\"s8\"]\n",
    "\n",
    "fm = 256.0 #IMPORTANTE: La frecuencia de muestreo DEBE SER LA MISMA que se uso cuando se entrenó la CNN\n",
    "tiempoTotal = int(4*fm) #cantidad de muestras para 4segundos\n",
    "muestraDescarte = 39\n",
    "frecStimulus = np.array([9.25, 11.25, 13.25,\n",
    "                          9.75, 11.75, 13.75,\n",
    "                          10.25, 12.25, 14.25,\n",
    "                          10.75, 12.75, 14.75])\n",
    "\n",
    "rawEEG = fa.loadData(path = path, filenames = subjectsNames)[f\"s{subjects[0]}\"][\"eeg\"]\n",
    "    \n",
    "#selec the last 3 trials\n",
    "rawEEG = rawEEG[:, :, :, 12:]"
   ]
  },
  {
   "cell_type": "markdown",
   "id": "3214d05e",
   "metadata": {},
   "source": [
    "### Selección de <span style=\"color:#C70039\">**un trial**</span> y de <span style=\"color:#C70039\">**un estímulo**</span>\n",
    "\n",
    "Como podrán notar en la celda de abajo, a partir de nuestro set de datos *rawEEG* que contiene los últimos 3 trials, se ha seleccionado el trial número 1 y el estímulo número 12.\n",
    "\n",
    "##### ¿Por qué seleccionamos un trial y un estímulo?\n",
    "\n",
    "¡Porque queremos simular lo mejor posible el momento que tengamos datos en tiempo real!. \n",
    "\n",
    "Recuerden que durante una sesión online, al finalizar la fase de estimulación de un trial, lo que queremos es obtener un comando a partir del EEG del suejto voluntario que esta enfocando su mirada a alguno de los estímulos que oscilan a cierta frecuencia.\n",
    "\n",
    "Esto último significa que tenemos datos conformados por **un solo trial y esperamos clasificar un sólo estímulo**.\n",
    "\n",
    "### <span style=\"color:red\">Importante</span>\n",
    "\n",
    "La variable *resolution* debe tener **exactamente el mismo valor** que la resolución utilizada durante el entrenamiento de la CCN usando el módulo **CNNTrainingModule**.\n",
    "\n",
    "Esta resolución es usada durante la extracción de características al computarse la Transformada de Fourier sobre los datos de EEG."
   ]
  },
  {
   "cell_type": "code",
   "execution_count": 3,
   "id": "5eedb19c",
   "metadata": {},
   "outputs": [
    {
     "data": {
      "text/plain": [
       "0.2298"
      ]
     },
     "execution_count": 3,
     "metadata": {},
     "output_type": "execute_result"
    }
   ],
   "source": [
    "stimulus = 12 #slected stimulus for classification\n",
    "trial = 1 #selected trial\n",
    "\n",
    "#get the selected trial and stimulus from rawEEG\n",
    "data = rawEEG[stimulus-1,:,:,trial-1].reshape(1, rawEEG.shape[1],rawEEG.shape[2],1)\n",
    "path = os.path.join(actualFolder,\"models\")\n",
    "\n",
    "samples = rawEEG.shape[2]\n",
    "resolution = np.round(fm/samples,4) #IMPORTANTE: La resolución DEBE SER LA MISMA que se uso cuando se entrenó la CNN\n",
    "\n",
    "rawEEG = rawEEG[:,:, muestraDescarte: ,:]\n",
    "rawEEG = rawEEG[:,:, :tiempoTotal ,:]\n",
    "\n",
    "resolution"
   ]
  },
  {
   "cell_type": "markdown",
   "id": "b3caac4e",
   "metadata": {},
   "source": [
    "##### Definición de parámetros importantes\n",
    "\n",
    "Definimos algunos parámetros que serán utilizados por la CNN para clasificar los datos de EEG."
   ]
  },
  {
   "cell_type": "code",
   "execution_count": 4,
   "id": "591640e2",
   "metadata": {},
   "outputs": [],
   "source": [
    "PRE_PROCES_PARAMS = {\n",
    "                'lfrec': 3.,\n",
    "                'hfrec': 36.,\n",
    "                'order': 4,\n",
    "                'sampling_rate': fm,\n",
    "                'window': 4,\n",
    "                'shiftLen':4\n",
    "                }\n",
    "\n",
    "\n",
    "FFT_PARAMS = {\n",
    "                'resolution': resolution,#0.2930,\n",
    "                'start_frequency': 5.0,\n",
    "                'end_frequency': 38.0,\n",
    "                'sampling_rate': fm\n",
    "                }"
   ]
  },
  {
   "cell_type": "markdown",
   "id": "8a30cc34",
   "metadata": {},
   "source": [
    "### Primer paso: Creamos nuestros clasificadores\n",
    "\n",
    "A partir de los modelos entrenados y guardados por el módulo **CNNTrainingModule** crearemos dos objetos del tipo **CNNClassify**\n",
    "\n",
    "- La primer CNN la usaremos para clasificar utilizando como features la magnitud de la FFT\n",
    "- La segunda CNN la usaremos para clasificar usando como features las partes real e imaginaria del EEG.\n",
    "\n",
    "Vemos que dentro de los parámetros que le pasamos al constructor del objeto tenemos *modelFile* y *weightFile*. Estos parámetros indican los nombres del modelo y los pesos entrenados, respectivamente, y la clase **CNNClassify** usará estos archivos para crear la CNN y cargar los pesos correspondientes a la red."
   ]
  },
  {
   "cell_type": "code",
   "execution_count": 5,
   "id": "cecb45dc",
   "metadata": {},
   "outputs": [],
   "source": [
    "actualFolder = os.getcwd()#directorio donde estamos actualmente. Debe contener el directorio dataset\n",
    "# actualFolder = \"E:/reposBCICompetition/BCIC-Personal/talleres/taller4/scripts\"\n",
    "path = os.path.join(actualFolder,\"dataset\")\n",
    "\n",
    "# create an CNNClassify object in order to work with magnitud features\n",
    "magnitudCNNClassifier = clasificadorCNN(modelFile = \"CNN_UsingMagnitudFeatures_Subject8\",\n",
    "                                        weightFile = \"bestWeightss_CNN_UsingMagnitudFeatures_Subject8\",\n",
    "                                        frecStimulus = frecStimulus.tolist(),\n",
    "                                        PRE_PROCES_PARAMS = PRE_PROCES_PARAMS,\n",
    "                                        FFT_PARAMS = FFT_PARAMS,\n",
    "                                        classiName = f\"CNN_Classifier\")\n",
    "\n",
    "# create an CNNClassify object in order to work with magnitud and complex features\n",
    "complexCNNClassifier = clasificadorCNN(modelFile = \"CNN_UsingComplexFeatures_Subject8\",\n",
    "                                       weightFile = \"bestWeightss_CNN_UsingComplexFeatures_Subject8\",\n",
    "                                       frecStimulus = frecStimulus.tolist(),\n",
    "                                       PRE_PROCES_PARAMS = PRE_PROCES_PARAMS,\n",
    "                                       FFT_PARAMS = FFT_PARAMS,\n",
    "                                       classiName = f\"CNN_Classifier\")"
   ]
  },
  {
   "cell_type": "markdown",
   "id": "2b796a36",
   "metadata": {},
   "source": [
    "### Segundo paso: Obtener el vector de características\n",
    "\n",
    "El objeto del tipo **CNNClassify** posee un método que le permite formar el <span style=\"color:#F37263\">**vector de características**</span> que será utilizado para clasificar. Este métodos es *getFeatureVector()*.\n",
    "\n",
    "##### Importante\n",
    "\n",
    "Debemos tener en cuenta que la forma de los datos de mis vectores de características, deben tener la misma forma que la variable *inputShape* del módulo **CNNTrainingModule** ya que es esta la forma con la que la CNN recibe los datos para clasificar."
   ]
  },
  {
   "cell_type": "code",
   "execution_count": 6,
   "id": "46e144e0",
   "metadata": {},
   "outputs": [
    {
     "data": {
      "text/plain": [
       "(2, 8, 144, 1)"
      ]
     },
     "execution_count": 6,
     "metadata": {},
     "output_type": "execute_result"
    }
   ],
   "source": [
    "featureVector = magnitudCNNClassifier.getMagnitudFeatureVector(data)\n",
    "featureVector.shape"
   ]
  },
  {
   "cell_type": "markdown",
   "id": "54e898fc",
   "metadata": {},
   "source": [
    "### Tercer paso: ¡Clasificación!\n",
    "\n",
    "Una vez que nuestro vector de características tiene la forma adecuada para alimentar la CNN, estamos en condiciones de generar una clasificación.\n",
    "\n",
    "Veamos,"
   ]
  },
  {
   "cell_type": "code",
   "execution_count": 7,
   "id": "d8c74190",
   "metadata": {},
   "outputs": [
    {
     "name": "stdout",
     "output_type": "stream",
     "text": [
      "El estímulo clasificado usando como features la magnitud de la FFT es:  14.75\n"
     ]
    }
   ],
   "source": [
    "# Get a classification. The classifyEEGSignal() method give us a stimulus\n",
    "# complexClassification = complexCNNClassifier.classifyEEGSignal(complexDataForClassification)\n",
    "clasiffication = magnitudCNNClassifier.classifyEEGSignal(featureVector)   \n",
    "\n",
    "print(\"El estímulo clasificado usando como features la magnitud de la FFT es: \", clasiffication)\n",
    "# print(\"The stimulus classified using complex features is: \", complexClassification)"
   ]
  },
  {
   "cell_type": "markdown",
   "id": "35c40934",
   "metadata": {},
   "source": [
    "<span style=\"color:#F37263\">**NOTA: Si prestamos atención a la celda anterior, el estímulo clasificado corresponde al de 14.75Hz, por lo tanto, para estos datos nuestra CNN ha clasificado correctamente.**</span>"
   ]
  },
  {
   "cell_type": "markdown",
   "id": "6ca940f1",
   "metadata": {},
   "source": [
    "#### Graficando espectro\n",
    "\n",
    "A continuación graficames el espectro de Fourier de la señal de EEG que hemos usado para formar el vector de características que alimentó la CNN para la clasificación."
   ]
  },
  {
   "cell_type": "code",
   "execution_count": 8,
   "id": "414520e4",
   "metadata": {},
   "outputs": [
    {
     "data": {
      "image/png": "[encoded data removed]",
      "text/plain": [
       "<Figure size 432x288 with 1 Axes>"
      ]
     },
     "metadata": {
      "needs_background": "light"
     },
     "output_type": "display_data"
    }
   ],
   "source": [
    "plotOneSpectrum(magnitudCNNClassifier.MSF, resolution, 12, subjects[0], 5, [clasiffication],\n",
    "              startFrecGraph = FFT_PARAMS['start_frequency'],\n",
    "              save = False,\n",
    "              title = f\"Stimulus classified using magnitud features: {clasiffication}\", folder = \"figs\")"
   ]
  },
  {
   "cell_type": "markdown",
   "id": "59310013",
   "metadata": {},
   "source": [
    "Podemos ver que el estímulo clasificado por la CNN aparece ubicado exáctamente a donde ocurre la máxima frecuencia del EEG para el trial seleccionado."
   ]
  },
  {
   "cell_type": "markdown",
   "id": "dee3dbfa",
   "metadata": {},
   "source": [
    "### Probando clasificador contra todos los estímulos y con todos los trials\n",
    "\n",
    "Ahora vamos a usar nuestras CNNs para clasificar todo el set de datos que hemos cargado previamente, esto es, los 3 trials de cada estímulo.\n",
    "\n",
    "Primero clasificaremos con la CNN que utiliza como features la magnitud de la FFT."
   ]
  },
  {
   "cell_type": "code",
   "execution_count": 9,
   "id": "00d52056",
   "metadata": {},
   "outputs": [],
   "source": [
    "trials = 3\n",
    "predicciones = np.zeros((len(frecStimulus),trials))\n",
    "\n",
    "for i, stimulus in enumerate(np.arange(12)):\n",
    "    for j, trial in enumerate(np.arange(3)):\n",
    "        data = rawEEG[stimulus,:,:,trial].reshape(1, rawEEG.shape[1],rawEEG.shape[2],1)\n",
    "        featureVector = magnitudCNNClassifier.getMagnitudFeatureVector(data)\n",
    "        classification = magnitudCNNClassifier.classifyEEGSignal(featureVector)\n",
    "        if classification == frecStimulus[stimulus]:\n",
    "            predicciones[i,j] = 1\n",
    "\n",
    "predMag = pd.DataFrame(predicciones, index = frecStimulus,\n",
    "                       columns = [f\"trial {trial+1}\" for trial in np.arange(trials)])"
   ]
  },
  {
   "cell_type": "markdown",
   "id": "f4c48ddb",
   "metadata": {},
   "source": [
    "##### Imprimimos nuestros datos de clasificación\n",
    "\n",
    "- Un valor de *1.0* indica que la CNN ha clasificado correctamente.\n",
    "- Un valor de *0.0* indica que la CNN ha clasificado incorrectamente."
   ]
  },
  {
   "cell_type": "code",
   "execution_count": 10,
   "id": "4640b0c5",
   "metadata": {},
   "outputs": [
    {
     "name": "stdout",
     "output_type": "stream",
     "text": [
      "Predicciones usando como features la magnitud de la FFT\n",
      "       trial 1  trial 2  trial 3\n",
      "9.25       1.0      1.0      1.0\n",
      "11.25      1.0      1.0      1.0\n",
      "13.25      1.0      1.0      1.0\n",
      "9.75       1.0      1.0      1.0\n",
      "11.75      1.0      1.0      1.0\n",
      "13.75      1.0      1.0      1.0\n",
      "10.25      1.0      1.0      1.0\n",
      "12.25      1.0      1.0      1.0\n",
      "14.25      1.0      1.0      1.0\n",
      "10.75      1.0      1.0      1.0\n",
      "12.75      1.0      1.0      1.0\n",
      "14.75      1.0      1.0      1.0\n"
     ]
    }
   ],
   "source": [
    "print(\"Predicciones usando como features la magnitud de la FFT\")\n",
    "print( predMag)"
   ]
  },
  {
   "cell_type": "markdown",
   "id": "2bcaa5ae",
   "metadata": {},
   "source": [
    "##### Clasificaciones usando las features con parte real e imaginaria\n",
    "\n",
    "Prestar atención que para el caso de clasificar usando el vector de características que contiene la parte real e imaginaria dela FFT debemos usar el objeto *complexCNNClassifier* ya que este ha sido creado a partir de estos vectores de características y por lo tanto debemos alimentarlo **únicamente** con estos tipos de vectores."
   ]
  },
  {
   "cell_type": "code",
   "execution_count": 11,
   "id": "2d441385",
   "metadata": {},
   "outputs": [],
   "source": [
    "predicciones = np.zeros((len(frecStimulus),trials))    \n",
    "for i, stimulus in enumerate(np.arange(12)):\n",
    "    for j, trial in enumerate(np.arange(3)):\n",
    "        data = rawEEG[stimulus,:,:,trial].reshape(1, rawEEG.shape[1],rawEEG.shape[2],1)\n",
    "        featureVector = magnitudCNNClassifier.getComplexFeatureVector(data)\n",
    "        classification = complexCNNClassifier.classifyEEGSignal(featureVector)\n",
    "        if classification == frecStimulus[stimulus]:\n",
    "            predicciones[i,j] = 1\n",
    "\n",
    "predCom = pd.DataFrame(predicciones, index = frecStimulus,\n",
    "                       columns = [f\"trial {trial+1}\" for trial in np.arange(trials)])"
   ]
  },
  {
   "cell_type": "markdown",
   "id": "6c22d94f",
   "metadata": {},
   "source": [
    "##### Imprimimos nuestros datos de clasificación\n",
    "\n",
    "- Un valor de *1.0* indica que la CNN ha clasificado correctamente.\n",
    "- Un valor de *0.0* indica que la CNN ha clasificado incorrectamente."
   ]
  },
  {
   "cell_type": "code",
   "execution_count": 12,
   "id": "5b5153d5",
   "metadata": {},
   "outputs": [
    {
     "name": "stdout",
     "output_type": "stream",
     "text": [
      "Predicciones usando features con parte real e imaginaria\n",
      "       trial 1  trial 2  trial 3\n",
      "9.25       1.0      1.0      1.0\n",
      "11.25      1.0      1.0      1.0\n",
      "13.25      1.0      1.0      1.0\n",
      "9.75       1.0      1.0      1.0\n",
      "11.75      1.0      1.0      1.0\n",
      "13.75      1.0      1.0      1.0\n",
      "10.25      1.0      1.0      1.0\n",
      "12.25      1.0      1.0      1.0\n",
      "14.25      1.0      1.0      1.0\n",
      "10.75      1.0      1.0      1.0\n",
      "12.75      1.0      1.0      1.0\n",
      "14.75      1.0      1.0      1.0\n"
     ]
    }
   ],
   "source": [
    "print(\"Predicciones usando features con parte real e imaginaria\")\n",
    "print(predCom)"
   ]
  },
  {
   "cell_type": "markdown",
   "id": "3998e48a",
   "metadata": {},
   "source": [
    "## Comentarios finales\n",
    "\n",
    "En el caso de que quisieramos usar alguna de las CNN entrenadas previamente los pasos que debemos llevar a cabo para clasificar señales de EEG en tiempo real son sencillos.\n",
    "\n",
    "1) Primero creamos una CNN a partir de un modelo previamente guardados. Esto lo hacemos al crear el objeto **CNNClassify** cuando le pasamos, entre otros parámetros, el nombre del archivo que debe utilizar para crear la CNN con los pesos lamacenados y obtenidos durante el entrenamiento utilizando el módulo **CNNTrainingModule**.\n",
    "2) En segundo lugar formamos el vector de características utilizando los métodos *computeMSF()* seguido de getDataForClassification"
   ]
  }
 ],
 "metadata": {
  "kernelspec": {
   "display_name": "Python [conda env:taller4-BCIC]",
   "language": "python",
   "name": "conda-env-taller4-BCIC-py"
  },
  "language_info": {
   "codemirror_mode": {
    "name": "ipython",
    "version": 3
   },
   "file_extension": ".py",
   "mimetype": "text/x-python",
   "name": "python",
   "nbconvert_exporter": "python",
   "pygments_lexer": "ipython3",
   "version": "3.9.5"
  }
 },
 "nbformat": 4,
 "nbformat_minor": 5
}
