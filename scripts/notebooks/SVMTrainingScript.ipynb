{
 "cells": [
  {
   "cell_type": "markdown",
   "id": "0a04e41c",
   "metadata": {},
   "source": [
    "# <span style=\"color:#C70039\">Script para entrenar y clasificar SSVEPs usando SVC</span>\n",
    "\n",
    "La siguiente notebook muestra un script para entrenar una *Support Vector Machine* en su versión **SCT-01-RevA**.\n",
    "\n",
    "#### Autor\n",
    "\n",
    "MSc. Bioingeniero BALDEZZARI Lucas\n",
    "\n",
    "### Objetivo principal de este módulo\n",
    "\n",
    "Entrenar y comparar diferentes SVM para clasificar SSVEPs.\n",
    "\n",
    "### Funcionalidades\n",
    "\n",
    "La versión actual del módulo permite,\n",
    "\n",
    "- Computar la FFT a partir de datos de EEG para obtener un vector de características.\n",
    "- Generar datos de entrenamiento con sus labels.\n",
    "- Entrenar varios modelos SVM y compararlos entre sí."
   ]
  },
  {
   "cell_type": "markdown",
   "id": "2ca1628e",
   "metadata": {},
   "source": [
    "##### Importamos algunas librerias que necesitamos"
   ]
  },
  {
   "cell_type": "code",
   "execution_count": 1,
   "id": "50efd64b",
   "metadata": {},
   "outputs": [],
   "source": [
    "import os\n",
    "import numpy as np\n",
    "import numpy.matlib as npm\n",
    "import pandas as pd\n",
    "\n",
    "from sklearn.metrics import f1_score, precision_score, recall_score, accuracy_score\n",
    "from sklearn.svm import SVC\n",
    "\n",
    "from sklearn.model_selection import train_test_split\n",
    "from sklearn.metrics import precision_recall_fscore_support\n",
    "\n",
    "import matplotlib.pyplot as plt\n",
    "\n",
    "import sys\n",
    "sys.path.append(\"E:/reposBCICompetition/BCIC-Personal/scripts/Bases\")\n",
    "\n",
    "#Librerias generadas por Baldezzari Lucas\n",
    "from utils import filterEEG, segmentingEEG, computeMagnitudSpectrum\n",
    "from utils import plotEEG\n",
    "import fileAdmin as fa"
   ]
  },
  {
   "cell_type": "markdown",
   "id": "0a6a458b",
   "metadata": {},
   "source": [
    "### <span style=\"color:#C70039\">Datos de entrenamiento</span>\n",
    "\n",
    "Los datos de EEG que debemos procesar y clasificar tienen la forma\n",
    "\n",
    "    [número de características x canales x clases x trials x número de segmentos]\n",
    "    \n",
    "Con el método *getDataForTraining()* lo que hacemos es reordenar los datos de tal manera de generar un set de datos de entrenamiento -*trainingData*- con sus respectivas etiquetas -*labels*-"
   ]
  },
  {
   "cell_type": "code",
   "execution_count": 2,
   "id": "7a680b77",
   "metadata": {},
   "outputs": [],
   "source": [
    "def getDataForTraining(features, clases, canal = False):\n",
    "    \"\"\"Preparación del set de entrenamiento.\n",
    "        \n",
    "    Argumentos:\n",
    "        - features: Parte Real del Espectro or Parte Real e Imaginaria del Espectro\n",
    "        con forma [número de características x canales x clases x trials x número de segmentos]\n",
    "        - clases: Lista con las clases para formar las labels\n",
    "        \n",
    "    Retorna:\n",
    "        - trainingData: Set de datos de entrenamiento para alimentar el modelo SVM\n",
    "        Con forma [trials*clases x number of features]\n",
    "        - Labels: labels para entrenar el modelo a partir de las clases\n",
    "    \"\"\"\n",
    "    \n",
    "    print(\"Generating training data\")\n",
    "    \n",
    "    numFeatures = features.shape[0]\n",
    "    canales = features.shape[1]\n",
    "    numClases = features.shape[2]\n",
    "    trials = features.shape[3]\n",
    "    \n",
    "    if canal == False:\n",
    "        trainingData = np.mean(features, axis = 1)\n",
    "        \n",
    "    else:\n",
    "        trainingData = features[:, canal, :, :]\n",
    "        \n",
    "    trainingData = trainingData.swapaxes(0,1).swapaxes(1,2).reshape(numClases*trials, numFeatures)\n",
    "    \n",
    "    classLabels = np.arange(len(clases))\n",
    "    \n",
    "    labels = (npm.repmat(classLabels, trials, 1).T).ravel()\n",
    "\n",
    "    return trainingData, labels"
   ]
  },
  {
   "cell_type": "markdown",
   "id": "9e63f074",
   "metadata": {},
   "source": [
    "### Primeros pasos\n",
    "\n",
    "A continuación cargamos el set de datos del Sujeto 8 y definimos algunas variables"
   ]
  },
  {
   "cell_type": "code",
   "execution_count": 3,
   "id": "68603459",
   "metadata": {},
   "outputs": [
    {
     "data": {
      "text/plain": [
       "(12, 8, 1114, 15)"
      ]
     },
     "execution_count": 3,
     "metadata": {},
     "output_type": "execute_result"
    }
   ],
   "source": [
    "\"\"\"Let's starting\"\"\"\n",
    "            \n",
    "actualFolder = os.getcwd()#directorio donde estamos actualmente. Debe contener el directorio dataset\n",
    "path = os.path.join('E:\\\\reposBCICompetition\\\\BCIC-Personal\\\\talleres\\\\taller4\\\\scripts',\"dataset\")\n",
    "\n",
    "subjects = np.arange(0,10)\n",
    "# subjectsNames = [f\"s{subject}\" for subject in np.arange(1,11)]\n",
    "subjectsNames = [f\"s8\"]\n",
    "\n",
    "\"\"\"Loading the EEG data\"\"\"\n",
    "rawEEGs = fa.loadData(path = path, filenames = subjectsNames)\n",
    "rawEEGs[\"s8\"][\"eeg\"].shape"
   ]
  },
  {
   "cell_type": "markdown",
   "id": "895ac218",
   "metadata": {},
   "source": [
    "### Forma de los datos\n",
    "\n",
    "Los datos de EEG tienen la forma:\n",
    "\n",
    "    [número de clases x canales x muestras x trials]"
   ]
  },
  {
   "cell_type": "markdown",
   "id": "048ce903",
   "metadata": {},
   "source": [
    "##### Definimos algunas variables"
   ]
  },
  {
   "cell_type": "code",
   "execution_count": 4,
   "id": "37073642",
   "metadata": {},
   "outputs": [
    {
     "data": {
      "text/plain": [
       "(12, 8, 1024, 15)"
      ]
     },
     "execution_count": 4,
     "metadata": {},
     "output_type": "execute_result"
    }
   ],
   "source": [
    "fm = 256.0\n",
    "tiempoTotal = int(4*fm) #cantidad de muestras para 4segundos\n",
    "muestraDescarte = 39\n",
    "frecStimulus = np.array([9.25, 11.25, 13.25, 9.75, 11.75, 13.75, 10.25, 12.25, 14.25, 10.75, 12.75, 14.75])\n",
    "\n",
    "samples = rawEEGs[subjectsNames[0]][\"eeg\"].shape[2] #they are the same for all sobjecs and trials\n",
    "\n",
    "#Filtering de EEG\n",
    "PRE_PROCES_PARAMS = {\n",
    "                'lfrec': 5.,\n",
    "                'hfrec': 38.,\n",
    "                'order': 4,\n",
    "                'sampling_rate': fm,\n",
    "                'bandStop': 50.,\n",
    "                'window': 4,\n",
    "                'shiftLen':4\n",
    "                }\n",
    "\n",
    "resolution = fm/samples\n",
    "\n",
    "FFT_PARAMS = {\n",
    "                'resolution': resolution,#0.2930,\n",
    "                'start_frequency': 5.0,\n",
    "                'end_frequency': 38.0,\n",
    "                'sampling_rate': fm\n",
    "                }\n",
    "\n",
    "#Se descartan las primeras 39 muestras (debido a reporte del paper)\n",
    "for subject in subjectsNames:\n",
    "    eeg = rawEEGs[subject][\"eeg\"]\n",
    "    eeg = eeg[:,:, muestraDescarte: ,:]\n",
    "    eeg = eeg[:,:, :tiempoTotal ,:]\n",
    "    rawEEGs[subject][\"eeg\"] = filterEEG(eeg,lfrec = PRE_PROCES_PARAMS[\"lfrec\"],\n",
    "                                        hfrec = PRE_PROCES_PARAMS[\"hfrec\"],\n",
    "                                        orden = 4, bandStop = 50. , fm  = fm)\n",
    "    \n",
    "rawEEGs[subject][\"eeg\"].shape"
   ]
  },
  {
   "cell_type": "markdown",
   "id": "7ddc58bd",
   "metadata": {},
   "source": [
    "##### Dividiendo set de entrenamiento"
   ]
  },
  {
   "cell_type": "code",
   "execution_count": 5,
   "id": "d0142f02",
   "metadata": {},
   "outputs": [],
   "source": [
    "trainSet = rawEEGs[\"s8\"][\"eeg\"][:,:,:,:11] #me quedo con los primeros 11 trials para train"
   ]
  },
  {
   "cell_type": "markdown",
   "id": "1e45186a",
   "metadata": {},
   "source": [
    "##### Segmentando datos y Obteniendo el espectro de Fourier"
   ]
  },
  {
   "cell_type": "code",
   "execution_count": 6,
   "id": "368de44e",
   "metadata": {},
   "outputs": [],
   "source": [
    "#eeg data segmentation\n",
    "dataSetSegmentado = segmentingEEG(trainSet, PRE_PROCES_PARAMS[\"window\"],PRE_PROCES_PARAMS[\"shiftLen\"],\n",
    "                                  PRE_PROCES_PARAMS[\"sampling_rate\"])\n",
    "\n",
    "magFFT = computeMagnitudSpectrum(dataSetSegmentado, FFT_PARAMS)\n",
    "\n",
    "magFFT = np.mean(magFFT, axis = 4) #media a través de los segmentos"
   ]
  },
  {
   "cell_type": "markdown",
   "id": "94b2e03a",
   "metadata": {},
   "source": [
    "##### Transformamos los datos para obtener obtener un set de entrenamiento y sus etiquetas"
   ]
  },
  {
   "cell_type": "code",
   "execution_count": 7,
   "id": "11258daf",
   "metadata": {},
   "outputs": [
    {
     "name": "stdout",
     "output_type": "stream",
     "text": [
      "Generating training data\n",
      "Shape training data:  (132, 144)\n",
      "Shape labels: (132,)\n"
     ]
    }
   ],
   "source": [
    "trainingData, labels = getDataForTraining(magFFT, clases = np.arange(0,12))\n",
    "print(\"Shape training data: \", trainingData.shape)\n",
    "print(\"Shape labels:\", labels.shape)"
   ]
  },
  {
   "cell_type": "markdown",
   "id": "4ad3a057",
   "metadata": {},
   "source": [
    "#### Forma de training data\n",
    "\n",
    "Los datos dentro de *training data* están estructurados de tal manera de tener una matríz donde cada fila representa un trial asociado a un estímulo y cada columna representa una feature. A su vez, recordar que nuestro set de entrenamiento estaba formado por 11 trials, por lo tanto, las primeras 11 filas corresponden a los trials del estímulo 1, las siguiente 11 filas corresponden a los 11 trials del estímulo 2, y así hasta el estímulo 12.\n",
    "\n",
    "A modo de ejemplo, si hacemos,\n",
    "\n",
    "- *trainingData[0, :]*, estaremos accediendo a las features del estímulo 1 en el trial 1.\n",
    "- *trainingData[12, :]*, estaremos accediendo a las features del estímulo 2 en el trial 2."
   ]
  },
  {
   "cell_type": "markdown",
   "id": "565ccf1a",
   "metadata": {},
   "source": [
    "### Algunas gráfcias\n",
    "\n",
    "Para intentar entender lo anterior vamos a graficar el los datos de *trainingData*."
   ]
  },
  {
   "cell_type": "code",
   "execution_count": 8,
   "id": "5f46d71d",
   "metadata": {},
   "outputs": [
    {
     "data": {
      "image/png": "[encoded data removed]",
      "text/plain": [
       "<Figure size 432x288 with 1 Axes>"
      ]
     },
     "metadata": {
      "needs_background": "light"
     },
     "output_type": "display_data"
    },
    {
     "data": {
      "image/png": "[encoded data removed]",
      "text/plain": [
       "<Figure size 432x288 with 1 Axes>"
      ]
     },
     "metadata": {
      "needs_background": "light"
     },
     "output_type": "display_data"
    }
   ],
   "source": [
    "#Checking the features\n",
    "# Plotting promediando trials\n",
    "cantidadTrials = 11\n",
    "clase = 5\n",
    "fft_axis = np.arange(trainingData.shape[1]) * resolution\n",
    "plt.xlabel('Frecuencia [Hz]')\n",
    "plt.ylabel('Amplitud [uV]')\n",
    "plt.title(f\"Características para clase {frecStimulus[clase-1]} - Trials promediados\")\n",
    "plt.plot(fft_axis + FFT_PARAMS[\"start_frequency\"],\n",
    "          np.mean(trainingData[ (clase-1)*cantidadTrials : (clase-1)*cantidadTrials + cantidadTrials, :], axis = 0))\n",
    "plt.axvline(x = frecStimulus[clase-1], ymin = 0., ymax = max(fft_axis),\n",
    "                      label = \"Frecuencia estímulo\",\n",
    "                      linestyle='--', color = \"#e37165\", alpha = 0.9)\n",
    "plt.legend()\n",
    "plt.show()\n",
    "\n",
    "# Plotting para una clase y un trial\n",
    "cantidadTrials = 11\n",
    "trial = 11\n",
    "clase = 5\n",
    "fft_axis = np.arange(trainingData.shape[1]) * resolution\n",
    "plt.xlabel('Frecuencia [Hz]')\n",
    "plt.ylabel('Amplitud [uV]')\n",
    "plt.title(f\"Características para clase {frecStimulus[clase-1]} y trial {trial}\")\n",
    "plt.plot(fft_axis + FFT_PARAMS[\"start_frequency\"], trainingData[(clase-1)*cantidadTrials + (trial-1), :])\n",
    "plt.axvline(x = frecStimulus[clase-1], ymin = 0., ymax = max(fft_axis),\n",
    "                      label = \"Frecuencia estímulo\",\n",
    "                      linestyle='--', color = \"#e37165\", alpha = 0.9)\n",
    "plt.legend()\n",
    "plt.show()"
   ]
  },
  {
   "cell_type": "markdown",
   "id": "c68bc120",
   "metadata": {},
   "source": [
    "##### Preparando datos de train y validation"
   ]
  },
  {
   "cell_type": "code",
   "execution_count": 9,
   "id": "5034b70a",
   "metadata": {},
   "outputs": [],
   "source": [
    "# Preparando datos de train y validation\n",
    "\n",
    "X_trn, X_val, y_trn, y_val = train_test_split(trainingData, labels, test_size=.2)"
   ]
  },
  {
   "cell_type": "markdown",
   "id": "b3818349",
   "metadata": {},
   "source": [
    "### Hiperparámetros del *Support Vector Machine*\n",
    "\n",
    "El método SVC de la libreria [sklearn.svm.SVC](https://scikit-learn.org/stable/modules/generated/sklearn.svm.SVC.html) posee varios hiperparámetros que sirven para configurar al algorítmo del SVM.\n",
    "\n",
    "A continuación definimos algunos hiperparámetros para entrenar y comprar diferentes modelos."
   ]
  },
  {
   "cell_type": "code",
   "execution_count": 10,
   "id": "f5bd1bba",
   "metadata": {},
   "outputs": [],
   "source": [
    "hiperParams = {\"kernels\": [\"linear\", \"rbf\"],\n",
    "    \"gammaValues\": [1e-2, 1e-1, 1, 1e+1, 1e+2, \"scale\", \"auto\"],\n",
    "    \"CValues\": [8e-1,9e-1, 1, 1e2, 1e3]\n",
    "    }\n",
    "\n",
    "clasificadoresSVM = {\"linear\": list(),\n",
    "                  \"rbf\": list()\n",
    "    }\n",
    "\n",
    "rbfResults = np.zeros((len(hiperParams[\"gammaValues\"]), len(hiperParams[\"CValues\"])))\n",
    "linearResults = list()"
   ]
  },
  {
   "cell_type": "markdown",
   "id": "45af6c99",
   "metadata": {},
   "source": [
    "##### Generamos y entrenamos modelos con cada hiperparámetro"
   ]
  },
  {
   "cell_type": "code",
   "execution_count": 11,
   "id": "bda2d029",
   "metadata": {},
   "outputs": [],
   "source": [
    "for i, kernel in enumerate(hiperParams[\"kernels\"]):\n",
    "    \n",
    "    if kernel != \"linear\":\n",
    "        for j, gamma in enumerate(hiperParams[\"gammaValues\"]):\n",
    "            \n",
    "            for k, C in enumerate(hiperParams[\"CValues\"]):\n",
    "\n",
    "                svm = SVC(C = C, kernel = kernel, gamma = gamma)\n",
    "                svm.fit(X_trn,y_trn)\n",
    "                y_pred = svm.predict(X_val)\n",
    "                accu = f1_score(y_val, y_pred, average='weighted')\n",
    "                \n",
    "                rbfResults[j,k] = accu\n",
    "                \n",
    "                clasificadoresSVM[kernel].append((C, gamma, svm, accu))\n",
    "    else:\n",
    "        for k, C in enumerate(hiperParams[\"CValues\"]):\n",
    "            \n",
    "            #Instanciamos el modelo para los hipermarametros\n",
    "            model = SVC(C = C, kernel = kernel)\n",
    "            #entreno el modelo\n",
    "            model.fit(X_trn, y_trn)\n",
    "            y_pred = model.predict(X_val)\n",
    "            accu = f1_score(y_val, y_pred, average='weighted')\n",
    "            linearResults.append(accu)\n",
    "            \n",
    "            clasificadoresSVM[kernel].append((C, model, accu))"
   ]
  },
  {
   "cell_type": "markdown",
   "id": "54aba6ba",
   "metadata": {},
   "source": [
    "##### Graficamos las métricas obtenidas"
   ]
  },
  {
   "cell_type": "code",
   "execution_count": 12,
   "id": "1855cc6e",
   "metadata": {},
   "outputs": [
    {
     "data": {
      "image/png": "[encoded data removed]",
      "text/plain": [
       "<Figure size 1080x720 with 2 Axes>"
      ]
     },
     "metadata": {
      "needs_background": "light"
     },
     "output_type": "display_data"
    }
   ],
   "source": [
    "plt.figure(figsize=(15,10))\n",
    "plt.imshow(rbfResults)\n",
    "plt.xlabel(\"Valor de C\")\n",
    "plt.xticks(np.arange(len(hiperParams[\"CValues\"])), hiperParams[\"CValues\"])\n",
    "plt.ylabel(\"Valor de Gamma\")\n",
    "plt.yticks(np.arange(len(hiperParams[\"gammaValues\"])), hiperParams[\"gammaValues\"])\n",
    "plt.colorbar();\n",
    "\n",
    "for i in range(rbfResults.shape[0]):\n",
    "    for j in range(rbfResults.shape[1]):\n",
    "        plt.text(j, i, \"{:.2f}\".format(rbfResults[i, j]), va='center', ha='center')\n",
    "plt.show()\n"
   ]
  },
  {
   "cell_type": "markdown",
   "id": "f0931042",
   "metadata": {},
   "source": [
    "A modo de ejemplo, podemos ver que para un valor de *C=1\" y *gamma = \"scale\"* el accuracy es del 100%."
   ]
  },
  {
   "cell_type": "code",
   "execution_count": 13,
   "id": "49781eab",
   "metadata": {},
   "outputs": [
    {
     "data": {
      "image/png": "[encoded data removed]",
      "text/plain": [
       "<Figure size 432x288 with 1 Axes>"
      ]
     },
     "metadata": {
      "needs_background": "light"
     },
     "output_type": "display_data"
    }
   ],
   "source": [
    "\n",
    "num = np.arange(1,len(linearResults)+1)\n",
    "plt.plot([str(C) for C in hiperParams[\"CValues\"]], np.asarray(linearResults)*100)\n",
    "plt.title(\"Accuracy para predicciones usando kernel 'linear'\")\n",
    "plt.xlabel(\"Valor de C\") \n",
    "plt.ylabel(\"Accuracy (%)\")\n",
    "plt.show()"
   ]
  },
  {
   "cell_type": "markdown",
   "id": "ca172055",
   "metadata": {},
   "source": [
    "### Probando modelos sobre datos de Test\n",
    "\n",
    "Hasta ahora hemos creado y comprado diferentes modelos SVC para diferentes hiperparámetros. Esto lo hicimos dividiendo el set de entrenamiento en dos sets nuevos llamados *train* y *validation*.\n",
    "\n",
    "Ahora queremos ver si alguno de los modelos entrenados puede clasificar correctamente los datos dentro del set de **test**. Es **importante** tener en cuenta que los datos de test **nunca han sido vistos por nuestros clasificadores**."
   ]
  },
  {
   "cell_type": "code",
   "execution_count": 14,
   "id": "17b88151",
   "metadata": {},
   "outputs": [
    {
     "data": {
      "text/plain": [
       "(12, 8, 1024, 4)"
      ]
     },
     "execution_count": 14,
     "metadata": {},
     "output_type": "execute_result"
    }
   ],
   "source": [
    "testSet = rawEEGs[\"s8\"][\"eeg\"][:,:,:,11:] #me quedo con los últimos 11 trials para test\n",
    "testSet.shape"
   ]
  },
  {
   "cell_type": "code",
   "execution_count": 15,
   "id": "1159c2a7",
   "metadata": {},
   "outputs": [
    {
     "name": "stdout",
     "output_type": "stream",
     "text": [
      "Generating training data\n"
     ]
    }
   ],
   "source": [
    "dataSetSegmentado = segmentingEEG(testSet, PRE_PROCES_PARAMS[\"window\"],PRE_PROCES_PARAMS[\"shiftLen\"],\n",
    "                                  PRE_PROCES_PARAMS[\"sampling_rate\"])\n",
    "\n",
    "magFFT = computeMagnitudSpectrum(dataSetSegmentado, FFT_PARAMS)\n",
    "magFFT = np.mean(magFFT, axis = 4) #media a través de los segmentos\n",
    "\n",
    "X_tst, y_tst = getDataForTraining(magFFT, clases = np.arange(0,12))\n",
    "\n",
    "#Selecciono un modelo con kernel lineal\n",
    "modeloSVM1 = clasificadoresSVM[\"linear\"][2][1] #SVM con C=1 y kernel = \"linear\"\n",
    "\n",
    "\n",
    "#Selecciono un modelo con kernel rbf\n",
    "gamma = \"scale\"\n",
    "C = 1.\n",
    "\n",
    "for values in clasificadoresSVM[\"rbf\"]:\n",
    "    if values[0] == C and values[1] == gamma:\n",
    "        modeloSVM2 = values[2] #modelo 2 es un SVM con kernel = rbf\n",
    "\n",
    "modelos = {\"SVM1\": modeloSVM1,\n",
    "            \"SVM2\": modeloSVM2}\n",
    "\n",
    "generalResults = []"
   ]
  },
  {
   "cell_type": "markdown",
   "id": "7be0cc61",
   "metadata": {},
   "source": [
    "A continuación utilizamos los modelos seleccionados para clasificar sobre los datos de test"
   ]
  },
  {
   "cell_type": "code",
   "execution_count": 16,
   "id": "b9cdc1a5",
   "metadata": {},
   "outputs": [],
   "source": [
    "for modelo in modelos: # TODO completar con todos los modelos a usar\n",
    "        \n",
    "    modelos[modelo].fit(X_trn, y_trn)\n",
    "\n",
    "    # La siguietne predicción se hace sobre datos que no fueron vistos antes\n",
    "    pred = modelos[modelo].predict(X_tst)\n",
    "\n",
    "    generalResults.append([modelo,\n",
    "                            accuracy_score(y_tst, pred),\n",
    "                            f1_score(y_tst, pred, average='weighted'),\n",
    "                            recall_score(y_tst, pred, average='weighted'),\n",
    "                            precision_score(y_tst, pred, average='weighted')])\n",
    "\n",
    "generalResults = pd.DataFrame(generalResults, columns=[\"modelo\", \"acc\", \"f1\", \"pre\", \"rec\"])"
   ]
  },
  {
   "cell_type": "markdown",
   "id": "02795766",
   "metadata": {},
   "source": [
    "##### Imprimiendo resultados"
   ]
  },
  {
   "cell_type": "code",
   "execution_count": 17,
   "id": "cacb54a1",
   "metadata": {},
   "outputs": [
    {
     "name": "stdout",
     "output_type": "stream",
     "text": [
      "  modelo  acc   f1  pre  rec\n",
      "0   SVM1  1.0  1.0  1.0  1.0\n",
      "1   SVM2  1.0  1.0  1.0  1.0\n"
     ]
    }
   ],
   "source": [
    "print(generalResults)"
   ]
  },
  {
   "cell_type": "markdown",
   "id": "bc91c50d",
   "metadata": {},
   "source": [
    "### Comentarios finales\n",
    "\n",
    "Podemos ver que los dos modelos clasifican correctamente los datos de EEG del sujeto 8.\n",
    "\n",
    "##### ¿Se animan a probar lo mismo pero con las señales de otro sujeto?\n",
    "\n",
    "En mi caso, para el sujeto 2 obtuve los siguientes valores de clasificación:\n",
    "\n",
    "      modelo       acc        f1       pre       rec\n",
    "    0   SVM1  0.145833  0.124803  0.145833  0.115013\n",
    "    1   SVM2  0.083333  0.022962  0.083333  0.013763"
   ]
  }
 ],
 "metadata": {
  "kernelspec": {
   "display_name": "Python [conda env:taller4-BCIC]",
   "language": "python",
   "name": "conda-env-taller4-BCIC-py"
  },
  "language_info": {
   "codemirror_mode": {
    "name": "ipython",
    "version": 3
   },
   "file_extension": ".py",
   "mimetype": "text/x-python",
   "name": "python",
   "nbconvert_exporter": "python",
   "pygments_lexer": "ipython3",
   "version": "3.9.5"
  }
 },
 "nbformat": 4,
 "nbformat_minor": 5
}
