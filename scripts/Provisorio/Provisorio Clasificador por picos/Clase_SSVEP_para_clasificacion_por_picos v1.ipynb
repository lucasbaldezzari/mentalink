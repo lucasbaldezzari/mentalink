{
  "nbformat": 4,
  "nbformat_minor": 0,
  "metadata": {
    "colab": {
      "name": "Clase SSVEP para clasificacion por picos.ipynb",
      "provenance": [],
      "collapsed_sections": [
        "5jT8y_Bh8xnM"
      ]
    },
    "kernelspec": {
      "name": "python3",
      "display_name": "Python 3"
    },
    "language_info": {
      "name": "python"
    }
  },
  "cells": [
    {
      "cell_type": "markdown",
      "metadata": {
        "id": "GrXmvZn-9FZF"
      },
      "source": [
        "# Clase SSVEP para clasificación por picos"
      ]
    },
    {
      "cell_type": "markdown",
      "metadata": {
        "id": "GF2GC6q7zPJW"
      },
      "source": [
        "Funciones y clase de utilidad para el procesamiento de señales de EEG, y más concretamente en señales que contengan SSVEPs."
      ]
    },
    {
      "cell_type": "markdown",
      "metadata": {
        "id": "ceKzkm-FTLFD"
      },
      "source": [
        "## Explicado"
      ]
    },
    {
      "cell_type": "markdown",
      "metadata": {
        "id": "2b00IDwNzifA"
      },
      "source": [
        "Importamos funciones de utilidad."
      ]
    },
    {
      "cell_type": "code",
      "metadata": {
        "id": "IkARZwYtzmRJ"
      },
      "source": [
        "import numpy as np\n",
        "import scipy.io as sc\n",
        "import matplotlib.pyplot as plt\n",
        "from scipy.fftpack import fft, fftfreq\n",
        "from scipy.signal import butter, filtfilt"
      ],
      "execution_count": null,
      "outputs": []
    },
    {
      "cell_type": "markdown",
      "metadata": {
        "id": "W_G36VvIzpQZ"
      },
      "source": [
        "Implemento una función que lea archivo .mat, cree un diccionario con los datos y nos devuelva la key relacionada con la señal de EEG del sujeto."
      ]
    },
    {
      "cell_type": "code",
      "metadata": {
        "id": "43NXstJNz3NW"
      },
      "source": [
        "def lectorMAT(ruta):\n",
        "  '''\n",
        "  Devuelve una matriz de cuatro dimensiones de la forma [estímulos, canales, muestras, trials]\n",
        "  Hay que ingresar la ruta de donde se encuentra el archivo.mat, debe ser un string del modo 'directorio'\n",
        "  '''\n",
        "  Sujeto = sc.loadmat(ruta)\n",
        "  Sujeto = np.array(Sujeto['eeg'], dtype='float32') #accede a la key 'eeg', convierte los datos adquiridos a una matriz de datos del tipo float32\n",
        "  Sujeto = Sujeto[:,:,39:,:] #recorta los primeros 39 trial debido a que el sujeto se está preparando\n",
        "  return Sujeto "
      ],
      "execution_count": null,
      "outputs": []
    },
    {
      "cell_type": "markdown",
      "metadata": {
        "id": "bIcIxkw31Ytf"
      },
      "source": [
        "Implemento la clase SSVEP() y su constructor con los atributos necesarios. Los objetos creados mediante esta clase serán una señal única de EEG cruda."
      ]
    },
    {
      "cell_type": "code",
      "metadata": {
        "id": "m6m3Al5N1f22"
      },
      "source": [
        "class SSVEP(): #inicio la clase SSVEP\n",
        "    \n",
        "    def __init__(self, ruta, sampleFrec, lowFrec, highFrec, orden, stimuli, trial, utilSamples, estimulos): #constructor\n",
        "    '''\n",
        "    Al crear el objeto se deben introducir algunas variables de utilidad que formarán parte de los atributos:\n",
        "    -ruta: directorio donde se encuentra el archivo .mat, debe ser un string de la forma 'directorio' (copiar y pegar ruta del archivo subido a Colab y agregar comillas)\n",
        "    -sampleFrec: frecuencia de muestreo del conversor AD\n",
        "    -lowFrec: frecuencia de corte baja del filtro pasa banda\n",
        "    -highFrec: frecuencia de corte alta del filtro pasa banda\n",
        "    -orden: orden del filtro (de 1 a 6). Mientras más alto más pronunciada será la atenuación, pero consumirá más recursos del procesador.\n",
        "    -stimuli: posición de la frecuencia del estimulador dentro del array en estimulos (primera dimensión de la matriz).\n",
        "    -trial: número de trial del que queremos la señal de EEG.\n",
        "    -utilSamples: será el número de muestras que queremos del total de la señal, sirve principalmente para aislar la parte que queremos ver del espectro en frecuencias,\n",
        "    el máximo de utilSamples será el len() de la señal cruda.\n",
        "    -estimulos: lista de estimulos para el clasificador de picos\n",
        "    '''\n",
        "      self.fm = sampleFrec\n",
        "      self.Signal = lectorMAT(ruta)\n",
        "      self.lFrec = lowFrec\n",
        "      self.hFrec = highFrec\n",
        "      self.orden = orden\n",
        "      self.stimuli = stimuli\n",
        "      self.trial = trial\n",
        "      self.T = 1/sampleFrec\n",
        "      self.samples = len(self.Signal[0][0])\n",
        "      self.totalTime = self.samples/self.fm\n",
        "      self.utilSamples = utilSamples\n",
        "      self.Pikes = []\n",
        "      self.Frecs = []\n",
        "      self.points = 0\n",
        "      self.listPoints = []\n",
        "      self.contador = 0\n",
        "      self.estimulos = estimulos\n",
        "      self.accuracy = []\n",
        "      self.error = 1000\n",
        "      self.lastStimuli = []"
      ],
      "execution_count": null,
      "outputs": []
    },
    {
      "cell_type": "markdown",
      "metadata": {
        "id": "JQbdqm_-4kn1"
      },
      "source": [
        "Creamos un método que promediará las señales captadas por cada canal, por lo que nos quedaremos con una sola que será el promedio"
      ]
    },
    {
      "cell_type": "code",
      "metadata": {
        "id": "Wzp0sGVL4lMI"
      },
      "source": [
        "    def meanEEG(self):\n",
        "      '''\n",
        "      método que devuelve la señal promediada producto de cada canal. Por lo tanto es necesario que se respete la estructura de matriz de 4 dimensiones\n",
        "      '''\n",
        "      self.meanSignal = np.mean(self.Signal[self.stimuli], 0)\n",
        "      return self.meanSignal"
      ],
      "execution_count": null,
      "outputs": []
    },
    {
      "cell_type": "markdown",
      "metadata": {
        "id": "JLofa5uO6IhD"
      },
      "source": [
        "Creamos un método que nos permite graficar la trial de EEG sin acondicionar.  Voltaje en función del tiempo."
      ]
    },
    {
      "cell_type": "code",
      "metadata": {
        "id": "GN2nG8w96Jr3"
      },
      "source": [
        "    def plotRawEEG(self):\n",
        "      self.signal = self.meanEEG()\n",
        "      self.xAxies = np.arange(0, self.totalTime, self.T)\n",
        "      plt.plot(self.xAxies, self.signal[:,self.trial])\n",
        "      plt.title(f'EEG sin filtrar del trial {self.trial} estímulo {self.estimulos[self.stimuli]} Hz')\n",
        "      plt.xlabel('Tiempo (s)')\n",
        "      plt.ylabel('Potencia (uV)')"
      ],
      "execution_count": null,
      "outputs": []
    },
    {
      "cell_type": "markdown",
      "metadata": {
        "id": "DrYlbDNc65rL"
      },
      "source": [
        "Método que filtra el trial y lo devuelve"
      ]
    },
    {
      "cell_type": "code",
      "metadata": {
        "id": "tlEI6c9b61o8"
      },
      "source": [
        "    def filterEEG(self):\n",
        "      self.signal = self.meanEEG()\n",
        "      self.frec = 0.5 * self.fm\n",
        "      self.low = self.lFrec/self.frec\n",
        "      self.high = self.hFrec/self.frec\n",
        "      self.b, self.a = butter(self.orden, [self.low, self.high], btype='band')\n",
        "      self.filterTrial = filtfilt(self.b, self.a, self.signal[:,self.trial])\n",
        "      return self.filterTrial"
      ],
      "execution_count": null,
      "outputs": []
    },
    {
      "cell_type": "markdown",
      "metadata": {
        "id": "KrcxckJZ71ve"
      },
      "source": [
        "Grafica el trial filtrado. Voltaje en función del tiempo."
      ]
    },
    {
      "cell_type": "code",
      "metadata": {
        "id": "AuyjhNBh75ig"
      },
      "source": [
        "    def plotFilterEEG(self):\n",
        "      self.filterSignal = self.filterEEG()\n",
        "      self.xAxies = np.arange(0, self.totalTime, self.T)\n",
        "      plt.plot(self.xAxies, self.filterSignal)\n",
        "      plt.title(f'EEG filtrado del trial {self.trial} estímulo {self.estimulos[self.stimuli]} Hz')\n",
        "      plt.xlabel('Tiempo (s)')\n",
        "      plt.ylabel('Potencia (uV)')"
      ],
      "execution_count": null,
      "outputs": []
    },
    {
      "cell_type": "markdown",
      "metadata": {
        "id": "TzCtzO09_8-G"
      },
      "source": [
        "Método que realiza la tranformada rapida de fourier y devuelve los coeficientes de las frecuencias y potencias correspondientes. Recorta los vectores con self.utilSamples dependiendo con que sección del espectro en frecuencias nos queremos quedar"
      ]
    },
    {
      "cell_type": "code",
      "metadata": {
        "id": "obugOxQ3_8Su"
      },
      "source": [
        "   def tranformCoeficients(self):\n",
        "      self.filterSignal = self.filterEEG()\n",
        "      self.spectrum = fft(self.filterSignal)\n",
        "      self.frecuencias = np.arange(0, self.fm, self.fm/(len(self.signal)))\n",
        "      return self.frecuencias[:self.utilSamples], self.spectrum[:self.utilSamples]"
      ],
      "execution_count": null,
      "outputs": []
    },
    {
      "cell_type": "markdown",
      "metadata": {
        "id": "3HjAmTSv8_xT"
      },
      "source": [
        "Método que grafica su espectro en frecuencias del trial."
      ]
    },
    {
      "cell_type": "code",
      "metadata": {
        "id": "XzEwi4Fy9APf"
      },
      "source": [
        "    def plotSpectrum(self):\n",
        "      self.xAxies, self.yAxies = self.tranformCoeficients()\n",
        "      plt.plot(self.xAxies, abs(self.yAxies))\n",
        "      plt.title(f'Espectro de frecuencias del trial {self.trial} estímulo {self.estimulos[self.stimuli]} Hz')\n",
        "      plt.xlabel('Frecuencia (Hz)')\n",
        "      plt.ylabel('Potencia(uV)')"
      ],
      "execution_count": null,
      "outputs": []
    },
    {
      "cell_type": "markdown",
      "metadata": {
        "id": "vOsXH4OuEBY3"
      },
      "source": [
        "El método peaks() devuelve 2 listas, una con las Frecuencias donde hay máximos en el espectro de frecuencias y otra que corresponde a la potencia que tienen esos máximos."
      ]
    },
    {
      "cell_type": "code",
      "metadata": {
        "id": "_fUEcYw2EA3l"
      },
      "source": [
        "    def peaks(self):\n",
        "        self.xAxies, self.filterSignal = self.tranformCoeficients() #del método tranformCoeficients() obtiene los componentes frecuenciales y de energía de la transformada rapida de fourier\n",
        "        self.listSignal = list(self.filterSignal) #transformo a lista el array con los coeficientes de potencia apra recorrerlo con un for\n",
        "        self.listSignal.append(1) #agrego una posicion más a la lista para que termine el for buscando máximo y a su vez recorra todos los datos\n",
        "        for i in range(len(self.listSignal)): #recorre la lista con la potencia correspondiente al espectro en frecuencias y busca máximos\n",
        "            if abs(self.listSignal[i+2]) ==1: #si llega al ultimo lugar de la lista termina el for\n",
        "                break\n",
        "            if abs(self.listSignal[i+1]) > abs(self.listSignal[i]) and abs(self.listSignal[i+1]) >= abs(self.listSignal[i+2]): #método para saber si el número que sigue es un máximo\n",
        "                self.Pikes.append(abs(self.listSignal[i+1])) #agrega la parte real del componente frecuencial a una lista llamada Pikes\n",
        "                self.Frecs.append(self.xAxies[i+1]) #agrega la frecuencia correspondiente a la parte real añadida a la lista Pikes\n",
        "        return self.Frecs, self.Pikes"
      ],
      "execution_count": null,
      "outputs": []
    },
    {
      "cell_type": "markdown",
      "metadata": {
        "id": "q5QBV9LrGxay"
      },
      "source": [
        "El método peakClassifier() toma el return de peaks para clasificar mediante un sistema de puntos que estímulo se está mirando. Suma un punto si algun máximo corresponde a la frecuencia del primer armónico del armónico fundamental.\n",
        "Suma un punto si corresponde al segundo armónico.\n",
        "Suma otro punto si corresponde dicha frecuencia al máximo absoluto en el espectro en frecuencias."
      ]
    },
    {
      "cell_type": "code",
      "metadata": {
        "id": "Qe4rn26pG2i6"
      },
      "source": [
        "    def peakClassifier(self, Incertidumbre):\n",
        "      '''\n",
        "      Función que clasifica dependiendo de los picos en el espectro de frecuencias del trial.\n",
        "      Debe ser introducido un valor de Incertidumbre, que se utilizará para generar intervalos donde puede entrar los armónicos de n frecuencia fundamental.\n",
        "      '''\n",
        "        self.Frecs, self.Pikes = self.peaks() #del método self.peaks() obtiene dos listas que corresponden a su return.\n",
        "        self.maximo = self.Frecs[self.Pikes.index(max(self.Pikes))] #frecuencia del máximo absoluto en el espectro de frecuencias.\n",
        "        \n",
        "        for i in self.Frecs: #recorre la lista de frecuencias de los picos en el espectro de frecuencias del trial.\n",
        "           '''\n",
        "           comentar si da menos accuracy que cuando se ve solo el máximo absoluto\n",
        "           '''\n",
        "           # for a in self.Frecs: #recorre la misma listas de frecuencias en los picos para buscar el primer y segundo armónico\n",
        "            #    if i*2 <= a+Incertidumbre and i*2 >= a-Incertidumbre: #si esta dentro del intervalo el segundo armónico de la frecuencia i suma un punto\n",
        "             #       self.points += 1\n",
        "              #  if i*3 <= a+Incertidumbre and i*3 >= a-Incertidumbre: #si esta dentro del intervalo el tercer armónico de la frecuencia i suma un punto\n",
        "               #     self.points += 1\n",
        "            \n",
        "            if i == self.maximo: #si la freuencia i es la misma que el máximo absoluto sumará un punto\n",
        "                self.points += 1\n",
        "            self.listPoints.append(self.points) #agrega los puntos conseguidos a la lista self.listPoints\n",
        "            self.points = 0 #devuelve el contador de puntos a 0 cuando termina de analizar la frecuencia i\n",
        "         \n",
        "        for j in self.estimulos: #como los valores en frecuencia no son enteros haremos un método de minimizar el error que correpondera a una de las frecuencias dentro de la lista self.estimulos\n",
        "            #j correspondera a un estimulo dentro de la lista\n",
        "            self.contador = 0 #contador para recorrer la lista de puntos, vuelve a 0 cuando se analiza un estimulo\n",
        "            for k in self.listPoints: #k para el estimulo j recorrera la lista de puntos\n",
        "                if k == max(self.listPoints): #si el punto en la posición corresponde a la cantidad máxima que se pudo obtener entonces verá de que frecuencia se trata\n",
        "                   self.newError = abs(j - (self.Frecs[self.contador])) #va minimizando el error y lo agrega a la variables self.newError. La cantidad de error inicial se encuentra en el contructor de la clase\n",
        "                   if self.newError < self.error: #si el error es menor al que estaba anteriormente\n",
        "                       self.error = self.newError #error será el nuevo error que era más pequeño\n",
        "                       self.lastStimuli.append(j) #añade a una lista el estimulo que corresponda al minimo error encontrado\n",
        "                       \n",
        "                self.contador += 1 #suma 1 cada vez que se repite el for y cambia el k, que corresponde al puntaje obtenido\n",
        "    \n",
        "        print(f\"La persona se encuentra mirando el estímulo de {self.lastStimuli[len(self.lastStimuli)-1]} Hz\") #la ultima posición de la lista lastStimuli corresponde al estimulo que minimizó más el error\n",
        "        #print(f'El máximo absoluto está en {self.maximo} Hz')\n",
        "        #print(self.Frecs)\n",
        "        #print(self.Pikes)\n",
        "        #print(self.listPoints)"
      ],
      "execution_count": null,
      "outputs": []
    },
    {
      "cell_type": "markdown",
      "metadata": {
        "id": "WN5G9agfP9pV"
      },
      "source": [
        "Ejemplo 1 de prueba del código. Se intentará clasificar que estimulo corresponde al estimulo 0 (9.25 Hz) trial 0 únicamente con el método de picos."
      ]
    },
    {
      "cell_type": "code",
      "metadata": {
        "colab": {
          "base_uri": "https://localhost:8080/"
        },
        "id": "Id5GUJe3Pfmg",
        "outputId": "f71691ed-686f-4823-f967-232a6a9f9d78"
      },
      "source": [
        "directorio = '/content/eeg_s8-eeg_train.mat'\n",
        "fm = 256 #Hz\n",
        "lfrec = 7 #Hz\n",
        "hfrec = 45 #Hz\n",
        "orden = 6 #orden del filtro pasa banda\n",
        "stimuli = 0 #posición 0 de los estimulos, corresponde al de 9.25 Hz\n",
        "trial = 0 #posición 0 de los trial\n",
        "utilSamples = 200 #muestras que quiero ver en el espectro y clasificar\n",
        "estimulos = [9.25, 11.25, 13.25, 9.75, 11.75, 13.75, 10.25, 12.25, 14.25, 10.75, 12.75, 14.75]\n",
        "Incertidumbre = 0.2 #Hz\n",
        "\n",
        "eeg = SSVEP(directorio, fm, lfrec, hfrec, orden, stimuli, trial, utilSamples, estimulos) #creo el objeto eeg\n",
        "eeg.peakClassifier(Incertidumbre) #utilizo el método peakClassifier()"
      ],
      "execution_count": 73,
      "outputs": [
        {
          "output_type": "stream",
          "name": "stdout",
          "text": [
            "La persona se encuentra mirando el estímulo de 9.25 Hz\n"
          ]
        }
      ]
    },
    {
      "cell_type": "markdown",
      "metadata": {
        "id": "S6zEfTdsQ_ql"
      },
      "source": [
        "Ejemplo 2 de prueba del código. Si intentarán clasificar los primeros 5 trials correspondientes al estímulo de 14.75 Hz utilizando el método de los picos."
      ]
    },
    {
      "cell_type": "code",
      "metadata": {
        "colab": {
          "base_uri": "https://localhost:8080/"
        },
        "id": "W4usu1vpRL7S",
        "outputId": "404faa2f-f717-4dbf-9580-cbc4b8fac2a3"
      },
      "source": [
        "directorio = '/content/eeg_s8-eeg_train.mat'\n",
        "fm = 256 #Hz\n",
        "lfrec = 7 #Hz\n",
        "hfrec = 45 #Hz\n",
        "orden = 6 #orden del filtro pasa banda\n",
        "stimuli = 11 #posición 0 de los estimulos, corresponde al de 9.25 Hz\n",
        "#trial = 0 #posición 0 de los trial\n",
        "utilSamples = 200 #muestras que quiero ver en el espectro y clasificar\n",
        "estimulos = [9.25, 11.25, 13.25, 9.75, 11.75, 13.75, 10.25, 12.25, 14.25, 10.75, 12.75, 14.75]\n",
        "Incertidumbre = 0.1 #Hz\n",
        "\n",
        "for i in range(5):\n",
        "  eeg = SSVEP(directorio, fm, lfrec, hfrec, orden, stimuli, i, utilSamples, estimulos) #creo el objeto eeg\n",
        "  eeg.peakClassifier(Incertidumbre) #utilizo el método peakClassifier()"
      ],
      "execution_count": 81,
      "outputs": [
        {
          "output_type": "stream",
          "name": "stdout",
          "text": [
            "La persona se encuentra mirando el estímulo de 14.75 Hz\n",
            "La persona se encuentra mirando el estímulo de 14.75 Hz\n",
            "La persona se encuentra mirando el estímulo de 14.75 Hz\n",
            "La persona se encuentra mirando el estímulo de 14.75 Hz\n",
            "La persona se encuentra mirando el estímulo de 14.75 Hz\n"
          ]
        }
      ]
    },
    {
      "cell_type": "markdown",
      "metadata": {
        "id": "P6U82DTxS2H1"
      },
      "source": [
        "## Código entero"
      ]
    },
    {
      "cell_type": "code",
      "metadata": {
        "id": "MLEkzssY74lj"
      },
      "source": [
        "import numpy as np\n",
        "import scipy.io as sc\n",
        "import matplotlib.pyplot as plt\n",
        "from scipy.fftpack import fft, fftfreq\n",
        "from scipy.signal import butter, filtfilt\n",
        "\n",
        "def lectorMAT(ruta):\n",
        "  Sujeto = sc.loadmat(ruta)\n",
        "  Sujeto = np.array(Sujeto['eeg'], dtype='float32')\n",
        "  Sujeto = Sujeto[:,:,39:,:]\n",
        "  return Sujeto\n",
        "\n",
        "class SSVEP():\n",
        "    \n",
        "    def __init__(self, ruta, sampleFrec, lowFrec, highFrec, orden, stimuli, trial, utilSamples, estimulos):\n",
        "      self.fm = sampleFrec\n",
        "      self.Signal = lectorMAT(ruta)\n",
        "      self.lFrec = lowFrec\n",
        "      self.hFrec = highFrec\n",
        "      self.orden = orden\n",
        "      self.stimuli = stimuli\n",
        "      self.trial = trial\n",
        "      self.T = 1/sampleFrec\n",
        "      self.samples = len(self.Signal[0][0])\n",
        "      self.totalTime = self.samples/self.fm\n",
        "      self.utilSamples = utilSamples\n",
        "      self.Pikes = []\n",
        "      self.Frecs = []\n",
        "      self.points = 0\n",
        "      self.listPoints = []\n",
        "      self.contador = 0\n",
        "      self.estimulos = estimulos\n",
        "      self.accuracy = []\n",
        "      self.error = 1000\n",
        "      self.lastStimuli = []\n",
        "      \n",
        "    def meanEEG(self):\n",
        "      self.meanSignal = np.mean(self.Signal[self.stimuli], 0)\n",
        "      return self.meanSignal\n",
        "        \n",
        "    def plotRawEEG(self):\n",
        "      self.signal = self.meanEEG()\n",
        "      self.xAxies = np.arange(0, self.totalTime, self.T)\n",
        "      plt.plot(self.xAxies, self.signal[:,self.trial])\n",
        "      plt.title(f'EEG sin filtrar del trial {self.trial} estímulo {self.estimulos[self.stimuli]} Hz')\n",
        "      plt.xlabel('Tiempo (s)')\n",
        "      plt.ylabel('Potencia (uV)')\n",
        "\n",
        "    def filterEEG(self):\n",
        "      self.signal = self.meanEEG()\n",
        "      self.frec = 0.5 * self.fm\n",
        "      self.low = self.lFrec/self.frec\n",
        "      self.high = self.hFrec/self.frec\n",
        "      self.b, self.a = butter(self.orden, [self.low, self.high], btype='band')\n",
        "      self.filterTrial = filtfilt(self.b, self.a, self.signal[:,self.trial])\n",
        "      return self.filterTrial\n",
        "\n",
        "    def plotFilterEEG(self):\n",
        "      self.filterSignal = self.filterEEG()\n",
        "      self.xAxies = np.arange(0, self.totalTime, self.T)\n",
        "      plt.plot(self.xAxies, self.filterSignal)\n",
        "      plt.title(f'EEG filtrado del trial {self.trial} estímulo {self.estimulos[self.stimuli]} Hz')\n",
        "      plt.xlabel('Tiempo (s)')\n",
        "      plt.ylabel('Potencia (uV)')\n",
        "\n",
        "    def tranformCoeficients(self):\n",
        "      self.filterSignal = self.filterEEG()\n",
        "      self.spectrum = fft(self.filterSignal)\n",
        "      self.frecuencias = np.arange(0, self.fm, self.fm/(len(self.signal)))\n",
        "      return self.frecuencias[:self.utilSamples], self.spectrum[:self.utilSamples]\n",
        "\n",
        "    def plotSpectrum(self):\n",
        "      self.xAxies, self.yAxies = self.tranformCoeficients()\n",
        "      plt.plot(self.xAxies, abs(self.yAxies))\n",
        "      plt.title(f'Espectro de frecuencias del trial {self.trial} estímulo {self.estimulos[self.stimuli]} Hz')\n",
        "      plt.xlabel('Frecuencia (Hz)')\n",
        "      plt.ylabel('Potencia(uV)')\n",
        "      \n",
        "    def peaks(self):\n",
        "        self.xAxies, self.filterSignal = self.tranformCoeficients()\n",
        "        self.listSignal = list(self.filterSignal)\n",
        "        self.listSignal.append(1)\n",
        "        for i in range(len(self.listSignal)): #codigo para detecta maximos sobre umbrales\n",
        "            if abs(self.listSignal[i+2]) ==1:\n",
        "                break\n",
        "            if abs(self.listSignal[i+1]) > abs(self.listSignal[i]) and abs(self.listSignal[i+1]) >= abs(self.listSignal[i+2]):\n",
        "                self.Pikes.append(abs(self.listSignal[i+1]))\n",
        "                self.Frecs.append(self.xAxies[i+1])\n",
        "        # print(f\"hay un máximo en {self.Frecs[self.Pikes.index(max(self.Pikes))]}\")\n",
        "        # print(self.Frecs)\n",
        "        return self.Frecs, self.Pikes\n",
        "        \n",
        "    def peakClassifier(self, Incertidumbre):\n",
        "        self.Frecs, self.Pikes = self.peaks()\n",
        "        self.maximo = self.Frecs[self.Pikes.index(max(self.Pikes))]\n",
        "        \n",
        "        for i in self.Frecs:\n",
        "          \n",
        "           #for a in self.Frecs:\n",
        "            #    if i*2 <= a+Incertidumbre and i*2 >= a-Incertidumbre:\n",
        "             #       self.points += 1\n",
        "              #  if i*3 <= a+Incertidumbre and i*3 >= a-Incertidumbre:\n",
        "               #     self.points += 1\n",
        "            \n",
        "            if i == self.maximo:\n",
        "                self.points += 1\n",
        "            self.listPoints.append(self.points)\n",
        "            self.points = 0\n",
        "         \n",
        "        for j in self.estimulos:\n",
        "            self.contador = 0\n",
        "            for k in self.listPoints:\n",
        "                if k == max(self.listPoints):\n",
        "                   self.newError = abs(j - (self.Frecs[self.contador]))\n",
        "                   if self.newError < self.error: #minimiza el error\n",
        "                       self.error = self.newError\n",
        "                       self.lastStimuli.append(j)\n",
        "                       \n",
        "                self.contador += 1\n",
        "    \n",
        "        print(f\"La persona se encuentra mirando el estímulo de {self.lastStimuli[len(self.lastStimuli)-1]} Hz\")\n",
        "        #print(f'El máximo absoluto está en {self.maximo} Hz')\n",
        "        #print(self.Frecs)\n",
        "        #print(self.Pikes)\n",
        "        #print(self.listPoints)"
      ],
      "execution_count": 88,
      "outputs": []
    },
    {
      "cell_type": "code",
      "metadata": {
        "id": "yaQQHKjG8B1R"
      },
      "source": [
        "directorio = '/content/eeg_s8-eeg_train.mat'\n",
        "fm = 256\n",
        "lfrec = 7\n",
        "hfrec = 45\n",
        "orden = 6\n",
        "stimuli = 0\n",
        "#trial = 14\n",
        "utilSamples = 200\n",
        "estimulos = [9.25, 11.25, 13.25, 9.75, 11.75, 13.75, 10.25, 12.25, 14.25, 10.75, 12.75, 14.75]"
      ],
      "execution_count": 89,
      "outputs": []
    },
    {
      "cell_type": "code",
      "metadata": {
        "colab": {
          "base_uri": "https://localhost:8080/",
          "height": 294
        },
        "id": "8P8tzlUHTVs9",
        "outputId": "09dbf0d2-262a-4351-a4b2-080a06995a16"
      },
      "source": [
        "eeg = SSVEP(directorio, fm, lfrec, hfrec, orden, 11, 0, utilSamples, estimulos)\n",
        "eeg.plotRawEEG()"
      ],
      "execution_count": 90,
      "outputs": [
        {
          "output_type": "display_data",
          "data": {
            "image/png": "[encoded data removed]",
            "text/plain": [
              "<Figure size 432x288 with 1 Axes>"
            ]
          },
          "metadata": {
            "needs_background": "light"
          }
        }
      ]
    },
    {
      "cell_type": "code",
      "metadata": {
        "colab": {
          "base_uri": "https://localhost:8080/",
          "height": 294
        },
        "id": "FQ76k4RNTh_B",
        "outputId": "244eba7b-bda8-4f22-b70a-e30bda55dce0"
      },
      "source": [
        "eeg.plotFilterEEG()"
      ],
      "execution_count": 91,
      "outputs": [
        {
          "output_type": "display_data",
          "data": {
            "image/png": "[encoded data removed]",
            "text/plain": [
              "<Figure size 432x288 with 1 Axes>"
            ]
          },
          "metadata": {
            "needs_background": "light"
          }
        }
      ]
    },
    {
      "cell_type": "code",
      "metadata": {
        "colab": {
          "base_uri": "https://localhost:8080/",
          "height": 294
        },
        "id": "1R_lERIuTXFs",
        "outputId": "1d2e67db-7514-4168-af23-8f3043bc555f"
      },
      "source": [
        "eeg.plotSpectrum()"
      ],
      "execution_count": 92,
      "outputs": [
        {
          "output_type": "display_data",
          "data": {
            "image/png": "[encoded data removed]",
            "text/plain": [
              "<Figure size 432x288 with 1 Axes>"
            ]
          },
          "metadata": {
            "needs_background": "light"
          }
        }
      ]
    },
    {
      "cell_type": "code",
      "metadata": {
        "colab": {
          "base_uri": "https://localhost:8080/"
        },
        "id": "bHZWA38vTZhX",
        "outputId": "cebba93c-04dc-42cc-975e-eb88554f5281"
      },
      "source": [
        "for k in range(5):\n",
        "    eeg = SSVEP(directorio, fm, lfrec, hfrec, orden, stimuli, k, utilSamples, estimulos)\n",
        "    eeg.peakClassifier(0.1)"
      ],
      "execution_count": 86,
      "outputs": [
        {
          "output_type": "stream",
          "name": "stdout",
          "text": [
            "La persona se encuentra mirando el estímulo de 14.75 Hz\n",
            "La persona se encuentra mirando el estímulo de 14.75 Hz\n",
            "La persona se encuentra mirando el estímulo de 14.75 Hz\n",
            "La persona se encuentra mirando el estímulo de 14.75 Hz\n",
            "La persona se encuentra mirando el estímulo de 14.75 Hz\n"
          ]
        }
      ]
    }
  ]
}