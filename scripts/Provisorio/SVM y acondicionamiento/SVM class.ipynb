{
  "nbformat": 4,
  "nbformat_minor": 0,
  "metadata": {
    "colab": {
      "name": "Competencia SSVEP.ipynb",
      "provenance": [],
      "collapsed_sections": [
        "5jT8y_Bh8xnM"
      ]
    },
    "kernelspec": {
      "name": "python3",
      "display_name": "Python 3"
    },
    "language_info": {
      "name": "python"
    }
  },
  "cells": [
    {
      "cell_type": "markdown",
      "metadata": {
        "id": "GrXmvZn-9FZF"
      },
      "source": [
        "# Clase SSVEP para acondicionamiento de la señal y plots"
      ]
    },
    {
      "cell_type": "markdown",
      "metadata": {
        "id": "GF2GC6q7zPJW"
      },
      "source": [
        "Funciones y clase de utilidad para el acondicionamiento y procesamiento de señales de EEG."
      ]
    },
    {
      "cell_type": "markdown",
      "metadata": {
        "id": "ceKzkm-FTLFD"
      },
      "source": [
        "## Explicado Clase SSVEP (no correr las celdas)"
      ]
    },
    {
      "cell_type": "markdown",
      "metadata": {
        "id": "2b00IDwNzifA"
      },
      "source": [
        "Importamos funciones de utilidad."
      ]
    },
    {
      "cell_type": "code",
      "metadata": {
        "id": "IkARZwYtzmRJ"
      },
      "source": [
        "import numpy as np\n",
        "import scipy.io as sc\n",
        "import matplotlib.pyplot as plt\n",
        "from scipy.fftpack import fft, fftfreq\n",
        "from scipy.signal import butter, filtfilt\n",
        "from sklearn.multiclass import OneVsRestClassifier\n",
        "from sklearn.svm import SVC"
      ],
      "execution_count": null,
      "outputs": []
    },
    {
      "cell_type": "markdown",
      "metadata": {
        "id": "W_G36VvIzpQZ"
      },
      "source": [
        "Implemento una función que lea archivo .mat, cree un diccionario con los datos y nos devuelva la key relacionada con la señal de EEG del sujeto."
      ]
    },
    {
      "cell_type": "code",
      "metadata": {
        "id": "43NXstJNz3NW"
      },
      "source": [
        "def lectorMAT(ruta):\n",
        "  '''\n",
        "  Devuelve una matriz de cuatro dimensiones de la forma [estímulos, canales, muestras, trials]\n",
        "  Hay que ingresar la ruta de donde se encuentra el archivo.mat, debe ser un string del modo 'directorio'\n",
        "  '''\n",
        "  Sujeto = sc.loadmat(ruta)\n",
        "  Sujeto = np.array(Sujeto['eeg'], dtype='float32') #accede a la key 'eeg', convierte los datos adquiridos a una matriz de datos del tipo float32\n",
        "  Sujeto = Sujeto[:,:,39:,:] #recorta los primeros 39 trial debido a que el sujeto se está preparando\n",
        "  return Sujeto "
      ],
      "execution_count": null,
      "outputs": []
    },
    {
      "cell_type": "markdown",
      "metadata": {
        "id": "bIcIxkw31Ytf"
      },
      "source": [
        "Implemento la clase SSVEP() y su constructor con los atributos necesarios. Los objetos creados mediante esta clase serán una señal única de EEG cruda."
      ]
    },
    {
      "cell_type": "code",
      "metadata": {
        "id": "4WxsEY7mcv8_"
      },
      "source": [
        "class SSVEP(): #inicio la clase SSVEP\n",
        "    \n",
        "    def __init__(self, ruta, sampleFrec, lowFrec, highFrec, orden, stimuli, trial, utilSamples, estimulos): #constructor\n",
        "    '''\n",
        "    Al crear el objeto se deben introducir algunas variables de utilidad que formarán parte de los atributos:\n",
        "    -ruta: directorio donde se encuentra el archivo .mat, debe ser un string de la forma 'directorio' (copiar y pegar ruta del archivo subido a Colab y agregar comillas)\n",
        "    -sampleFrec: frecuencia de muestreo del conversor AD\n",
        "    -lowFrec: frecuencia de corte baja del filtro pasa banda\n",
        "    -highFrec: frecuencia de corte alta del filtro pasa banda\n",
        "    -orden: orden del filtro (de 1 a 6). Mientras más alto más pronunciada será la atenuación, pero consumirá más recursos del procesador.\n",
        "    -stimuli: posición de la frecuencia del estimulador dentro del array en estimulos (primera dimensión de la matriz).\n",
        "    -trial: número de trial del que queremos la señal de EEG.\n",
        "    -utilSamples: será el número de muestras que queremos del total de la señal, sirve principalmente para aislar la parte que queremos ver del espectro en frecuencias,\n",
        "    el máximo de utilSamples será el len() de la señal cruda.\n",
        "    -estimulos: lista de estimulos para el clasificador de picos\n",
        "    '''\n",
        "\n",
        "    self.fm = sampleFrec\n",
        "    self.Signal = lectorMAT(ruta)\n",
        "    self.lFrec = lowFrec\n",
        "    self.hFrec = highFrec\n",
        "    self.orden = orden\n",
        "    self.stimuli = stimuli\n",
        "    self.trial = trial\n",
        "    self.T = 1/sampleFrec\n",
        "    self.samples = len(self.Signal[0][0])\n",
        "    self.totalTime = self.samples/self.fm\n",
        "    self.utilSamples = utilSamples\n",
        "    self.Pikes = []\n",
        "    self.Frecs = []\n",
        "    self.points = 0\n",
        "    self.listPoints = []\n",
        "    self.contador = 0\n",
        "    self.estimulos = estimulos\n",
        "    self.accuracy = []\n",
        "    self.error = 1000\n",
        "    self.lastStimuli = []"
      ],
      "execution_count": null,
      "outputs": []
    },
    {
      "cell_type": "markdown",
      "metadata": {
        "id": "JQbdqm_-4kn1"
      },
      "source": [
        "Creamos un método que promediará las señales captadas por cada canal, por lo que nos quedaremos con una sola que será el promedio"
      ]
    },
    {
      "cell_type": "code",
      "metadata": {
        "id": "Wzp0sGVL4lMI"
      },
      "source": [
        "    def meanEEG(self):\n",
        "      '''\n",
        "      método que devuelve la señal promediada producto de cada canal. Por lo tanto es necesario que se respete la estructura de matriz de 4 dimensiones\n",
        "      '''\n",
        "      self.meanSignal = np.mean(self.Signal[self.stimuli], 0)\n",
        "      return self.meanSignal"
      ],
      "execution_count": null,
      "outputs": []
    },
    {
      "cell_type": "markdown",
      "metadata": {
        "id": "JLofa5uO6IhD"
      },
      "source": [
        "Creamos un método que nos permite graficar la trial de EEG sin acondicionar.  Voltaje en función del tiempo."
      ]
    },
    {
      "cell_type": "code",
      "metadata": {
        "id": "GN2nG8w96Jr3"
      },
      "source": [
        "    def plotRawEEG(self):\n",
        "      self.signal = self.meanEEG()\n",
        "      self.xAxies = np.arange(0, self.totalTime, self.T)\n",
        "      plt.plot(self.xAxies, self.signal[:,self.trial])\n",
        "      plt.title(f'EEG sin filtrar del trial {self.trial} estímulo {self.estimulos[self.stimuli]} Hz')\n",
        "      plt.xlabel('Tiempo (s)')\n",
        "      plt.ylabel('Potencia (uV)')"
      ],
      "execution_count": null,
      "outputs": []
    },
    {
      "cell_type": "markdown",
      "metadata": {
        "id": "DrYlbDNc65rL"
      },
      "source": [
        "Método que filtra el trial y lo devuelve"
      ]
    },
    {
      "cell_type": "code",
      "metadata": {
        "id": "tlEI6c9b61o8"
      },
      "source": [
        "    def filterEEG(self):\n",
        "      self.signal = self.meanEEG()\n",
        "      self.frec = 0.5 * self.fm\n",
        "      self.low = self.lFrec/self.frec\n",
        "      self.high = self.hFrec/self.frec\n",
        "      self.b, self.a = butter(self.orden, [self.low, self.high], btype='band')\n",
        "      self.filterTrial = filtfilt(self.b, self.a, self.signal[:,self.trial])\n",
        "      return self.filterTrial"
      ],
      "execution_count": null,
      "outputs": []
    },
    {
      "cell_type": "markdown",
      "metadata": {
        "id": "KrcxckJZ71ve"
      },
      "source": [
        "Grafica el trial filtrado. Voltaje en función del tiempo."
      ]
    },
    {
      "cell_type": "code",
      "metadata": {
        "id": "AuyjhNBh75ig"
      },
      "source": [
        "    def plotFilterEEG(self):\n",
        "      self.filterSignal = self.filterEEG()\n",
        "      self.xAxies = np.arange(0, self.totalTime, self.T)\n",
        "      plt.plot(self.xAxies, self.filterSignal)\n",
        "      plt.title(f'EEG filtrado del trial {self.trial} estímulo {self.estimulos[self.stimuli]} Hz')\n",
        "      plt.xlabel('Tiempo (s)')\n",
        "      plt.ylabel('Potencia (uV)')"
      ],
      "execution_count": null,
      "outputs": []
    },
    {
      "cell_type": "markdown",
      "metadata": {
        "id": "TzCtzO09_8-G"
      },
      "source": [
        "Método que realiza la tranformada rapida de fourier y devuelve los coeficientes de las frecuencias y potencias correspondientes. Recorta los vectores con self.utilSamples dependiendo con que sección del espectro en frecuencias nos queremos quedar"
      ]
    },
    {
      "cell_type": "code",
      "metadata": {
        "id": "obugOxQ3_8Su"
      },
      "source": [
        "   def tranformCoeficients(self):\n",
        "      self.filterSignal = self.filterEEG()\n",
        "      self.spectrum = fft(self.filterSignal)\n",
        "      self.frecuencias = np.arange(0, self.fm, self.fm/(len(self.signal)))\n",
        "      return self.frecuencias[:self.utilSamples], self.spectrum[:self.utilSamples]"
      ],
      "execution_count": null,
      "outputs": []
    },
    {
      "cell_type": "markdown",
      "metadata": {
        "id": "3HjAmTSv8_xT"
      },
      "source": [
        "Método que grafica su espectro en frecuencias del trial."
      ]
    },
    {
      "cell_type": "code",
      "metadata": {
        "id": "XzEwi4Fy9APf"
      },
      "source": [
        "    def plotSpectrum(self):\n",
        "      self.xAxies, self.yAxies = self.tranformCoeficients()\n",
        "      plt.plot(self.xAxies, abs(self.yAxies))\n",
        "      plt.title(f'Espectro de frecuencias del trial {self.trial} estímulo {self.estimulos[self.stimuli]} Hz')\n",
        "      plt.xlabel('Frecuencia (Hz)')\n",
        "      plt.ylabel('Potencia(uV)')"
      ],
      "execution_count": null,
      "outputs": []
    },
    {
      "cell_type": "markdown",
      "metadata": {
        "id": "P6U82DTxS2H1"
      },
      "source": [
        "# Codigos enteros de las Clases para acondicionamiento de las señales y de clasificación"
      ]
    },
    {
      "cell_type": "markdown",
      "metadata": {
        "id": "yTiQAbrfaGRL"
      },
      "source": [
        "A partir de aquí es vital ejecutar las celdas para que el codigo funcione correctamente"
      ]
    },
    {
      "cell_type": "code",
      "metadata": {
        "id": "MLEkzssY74lj"
      },
      "source": [
        "import numpy as np\n",
        "import scipy.io as sc\n",
        "import matplotlib.pyplot as plt\n",
        "from scipy.fftpack import fft, fftfreq\n",
        "from scipy.signal import butter, filtfilt\n",
        "from sklearn.multiclass import OneVsRestClassifier\n",
        "from sklearn.svm import SVC\n",
        "\n",
        "def lectorMAT(ruta):\n",
        "  Sujeto = sc.loadmat(ruta)\n",
        "  Sujeto = np.array(Sujeto['eeg'], dtype='float32')\n",
        "  Sujeto = Sujeto[:,:,39:,:]\n",
        "  return Sujeto\n",
        "\n",
        "class SSVEP():\n",
        "    \n",
        "    def __init__(self, ruta, sampleFrec, lowFrec, highFrec, orden, stimuli, trial, utilSamples, estimulos):\n",
        "      self.fm = sampleFrec\n",
        "      self.Signal = lectorMAT(ruta)\n",
        "      self.lFrec = lowFrec\n",
        "      self.hFrec = highFrec\n",
        "      self.orden = orden\n",
        "      self.stimuli = stimuli\n",
        "      self.trial = trial\n",
        "      self.T = 1/sampleFrec\n",
        "      self.samples = len(self.Signal[0][0])\n",
        "      self.totalTime = self.samples/self.fm\n",
        "      self.utilSamples = utilSamples\n",
        "      self.Pikes = []\n",
        "      self.Frecs = []\n",
        "      self.points = 0\n",
        "      self.listPoints = []\n",
        "      self.contador = 0\n",
        "      self.estimulos = estimulos\n",
        "      self.accuracy = []\n",
        "      self.error = 1000\n",
        "      self.lastStimuli = []\n",
        "      self.clf = 0\n",
        "      \n",
        "    def meanEEG(self):\n",
        "      self.meanSignal = np.mean(self.Signal[self.stimuli], 0)\n",
        "      return self.meanSignal\n",
        "        \n",
        "    def plotRawEEG(self):\n",
        "      self.signal = self.meanEEG()\n",
        "      self.xAxies = np.arange(0, self.totalTime, self.T)\n",
        "      plt.plot(self.xAxies, self.signal[:,self.trial])\n",
        "      plt.title(f'EEG sin filtrar del trial {self.trial} estímulo {self.estimulos[self.stimuli]} Hz')\n",
        "      plt.xlabel('Tiempo (s)')\n",
        "      plt.ylabel('Potencia (uV)')\n",
        "\n",
        "    def filterEEG(self):\n",
        "      self.signal = self.meanEEG()\n",
        "      self.frec = 0.5 * self.fm\n",
        "      self.low = self.lFrec/self.frec\n",
        "      self.high = self.hFrec/self.frec\n",
        "      self.b, self.a = butter(self.orden, [self.low, self.high], btype='band')\n",
        "      self.filterTrial = filtfilt(self.b, self.a, self.signal[:,self.trial])\n",
        "      return self.filterTrial\n",
        "\n",
        "    def plotFilterEEG(self):\n",
        "      self.filterSignal = self.filterEEG()\n",
        "      self.xAxies = np.arange(0, self.totalTime, self.T)\n",
        "      plt.plot(self.xAxies, self.filterSignal)\n",
        "      plt.title(f'EEG filtrado del trial {self.trial} estímulo {self.estimulos[self.stimuli]} Hz')\n",
        "      plt.xlabel('Tiempo (s)')\n",
        "      plt.ylabel('Potencia (uV)')\n",
        "\n",
        "    def tranformCoeficients(self):\n",
        "      self.filterSignal = self.filterEEG()\n",
        "      self.spectrum = fft(self.filterSignal)\n",
        "      self.frecuencias = np.arange(0, self.fm, self.fm/(len(self.signal)))\n",
        "      return self.frecuencias[:self.utilSamples], self.spectrum[:self.utilSamples]\n",
        "\n",
        "    def plotSpectrum(self):\n",
        "      self.xAxies, self.yAxies = self.tranformCoeficients()\n",
        "      plt.plot(self.xAxies, abs(self.yAxies))\n",
        "      plt.title(f'Espectro de frecuencias del trial {self.trial} estímulo {self.estimulos[self.stimuli]} Hz')\n",
        "      plt.xlabel('Frecuencia (Hz)')\n",
        "      plt.ylabel('Potencia(uV)')"
      ],
      "execution_count": null,
      "outputs": []
    },
    {
      "cell_type": "markdown",
      "metadata": {
        "id": "WLTKUBQIZvuv"
      },
      "source": [
        "## Prueba de los métodos de la clase SSVEP (no hay necesidad de correrlos)"
      ]
    },
    {
      "cell_type": "code",
      "metadata": {
        "id": "yaQQHKjG8B1R"
      },
      "source": [
        "directorio = '/content/eeg_s8-eeg_train.mat' #directorio con los datos en colab\n",
        "fm = 256 #frecuencia de muestreo\n",
        "lfrec = 7 #frecuencia de corte baja del filtro\n",
        "hfrec = 45 #frecuencia de corte alta del filtro\n",
        "orden = 6 #orden del filtro\n",
        "stimuli = 0 #index del estimulo en la matriz eeg\n",
        "trial = 0 #index del trial en la matriz eeg\n",
        "utilSamples = 200 #datos con los que nos queremos quedar en la FFT\n",
        "estimulos = [9.25, 11.25, 13.25, 9.75, 11.75, 13.75, 10.25, 12.25, 14.25, 10.75, 12.75, 14.75]"
      ],
      "execution_count": null,
      "outputs": []
    },
    {
      "cell_type": "code",
      "metadata": {
        "colab": {
          "base_uri": "https://localhost:8080/",
          "height": 294
        },
        "id": "8P8tzlUHTVs9",
        "outputId": "8922919f-d455-4457-f7ec-b9b2fcf54693"
      },
      "source": [
        "eeg = SSVEP(directorio, fm, lfrec, hfrec, orden, stimuli, trial, utilSamples, estimulos) #objeto de la clase SSVEP()\n",
        "eeg.plotRawEEG() #metodo para graficar el trial crudo"
      ],
      "execution_count": null,
      "outputs": [
        {
          "output_type": "display_data",
          "data": {
            "image/png": "[encoded data removed]",
            "text/plain": [
              "<Figure size 432x288 with 1 Axes>"
            ]
          },
          "metadata": {
            "needs_background": "light"
          }
        }
      ]
    },
    {
      "cell_type": "code",
      "metadata": {
        "colab": {
          "base_uri": "https://localhost:8080/",
          "height": 294
        },
        "id": "FQ76k4RNTh_B",
        "outputId": "b8e0c7d8-3cd0-4d3a-8a1f-99cedc5d8154"
      },
      "source": [
        "eeg.plotFilterEEG() #metodo para graficar el trial filtrado"
      ],
      "execution_count": null,
      "outputs": [
        {
          "output_type": "display_data",
          "data": {
            "image/png": "[encoded data removed]",
            "text/plain": [
              "<Figure size 432x288 with 1 Axes>"
            ]
          },
          "metadata": {
            "needs_background": "light"
          }
        }
      ]
    },
    {
      "cell_type": "code",
      "metadata": {
        "colab": {
          "base_uri": "https://localhost:8080/",
          "height": 294
        },
        "id": "1R_lERIuTXFs",
        "outputId": "192079f6-2cf0-4717-c6fe-751d78ceda9e"
      },
      "source": [
        "eeg.plotSpectrum() #metodo para graficar el espectro en frecuencias del trial filtrado"
      ],
      "execution_count": null,
      "outputs": [
        {
          "output_type": "display_data",
          "data": {
            "image/png": "[encoded data removed]",
            "text/plain": [
              "<Figure size 432x288 with 1 Axes>"
            ]
          },
          "metadata": {
            "needs_background": "light"
          }
        }
      ]
    },
    {
      "cell_type": "markdown",
      "metadata": {
        "id": "cZuVS13g1nT-"
      },
      "source": [
        "## SVM"
      ]
    },
    {
      "cell_type": "markdown",
      "metadata": {
        "id": "ORgsCwD2a-N8"
      },
      "source": [
        "Clase y celdas a ejecutar para la clasificación"
      ]
    },
    {
      "cell_type": "code",
      "metadata": {
        "id": "eu__nJGJP9-I"
      },
      "source": [
        "class SVM():\n",
        "\n",
        "  '''\n",
        "  Clase SVM para la clasificación a través de una suport vector machine del tipo One Vs Rest\n",
        "  -No se debe ingresar nada\n",
        "  '''\n",
        "\n",
        "  def __init_(self): #contructor para almacenar el clasificador\n",
        "    self.clf = 0\n",
        "\n",
        "  def train(self, directorioTrain): \n",
        "    '''\n",
        "    Método para entrenar nuestra SVM. Actualmente las features son únicamente la potencia de la FFT, pero se puede añadir también\n",
        "    las frecuencias correspondientes a las potencias\n",
        "    -Debe ser ingresado el directorio del archivo con los datos para entrenar (debe ser un .mat).\n",
        "     Debe ser una matriz de estuctura (clases, canales, muestras, trials)\n",
        "    '''\n",
        "    rawSeñal = lectorMAT(directorioTrain) #lee el archivo .mat y lo transforma a una matriz\n",
        "    clases = len(rawSeñal) #cantidad de clases\n",
        "    trials = len(rawSeñal[0][0][0]) #cantidad de trials en los datos de entrenamiento\n",
        "\n",
        "    Potencia = [] #lista vacia para almacenar el componente real de la FFT\n",
        "    Clase = [] #lista vacia para almacenar las clases del entrenamiento, que a su vez seran las etiquetas de las potencias\n",
        "    for clase in range(clases):\n",
        "      for trial in range(trials):\n",
        "        EEG = SSVEP(directorioTrain, fm, lfrec, hfrec, orden, clase, trial, utilSamples, estimulos) #objeto de la clase SSVEP\n",
        "        frecuencia, potencia = EEG.tranformCoeficients() #metodo de la clase SSVEP que nos devuelve los compononentes de la potencia\n",
        "                                                         #de la FFT y el vector correspondiente a las frecuencias del trial n de la clase n\n",
        "                                                         #en nuestro caso estos serán nuestro features\n",
        "        Potencia.append(abs(potencia)) #agregamos a la lista potencia el componente real de la potencia de la FFT\n",
        "        Clase.append(clase) #agregamos las etiquetas, que coinsidirán al INDEX de la frecuencia correspondiente de la lista estimulos\n",
        "\n",
        "    Potencia = np.array(Potencia) #lista Potencia a narray\n",
        "    Clase = np.array(Clase) #lista Clase a narray\n",
        "\n",
        "    self.clf = OneVsRestClassifier(SVC()).fit(Potencia, Clase) #entrena el clasificador con X = Potencia Y = Clase (etiquetas INDEX)\n",
        "  \n",
        "  def classify(self, directorioClassif):\n",
        "    '''\n",
        "    Método que clasifica la matriz de datos con n trials restantes\n",
        "    -Debe ser ingresado el directorio del archivo con los datos para entrenar (debe ser un .mat).\n",
        "     Debe ser una matriz de estuctura (clases, canales, muestras, trials).  \n",
        "    '''\n",
        "    rawSeñalC = lectorMAT(directorioClassif) #lee el archivo .mat y lo transforma a una matriz\n",
        "    clasesC = len(rawSeñalC) #cantidad de clases (debe coincidir con las del entreno)\n",
        "    trialsC = len(rawSeñalC[0][0][0]) #cantidad de trials a clasificar por clase\n",
        "\n",
        "    for claseC in range(clasesC):\n",
        "      print(f'Estímulo {claseC+1}') #imprime un aviso del inicio de la clasificacion de una clase\n",
        "      for trialC in range(trialsC):\n",
        "        EEG = SSVEP(directorioClassif, fm, lfrec, hfrec, orden, claseC, trialC, utilSamples, estimulos) #objeto de la clase SSVEP\n",
        "        frecuencia, potencia = EEG.tranformCoeficients() #metodo de la clase SSVEP que nos devuelve los compononentes de la potencia\n",
        "                                                         #de la FFT y el vector correspondiente a las frecuencias del trial n de la clase n\n",
        "                                                         #en nuestro caso estos serán nuestro features\n",
        "\n",
        "        test = np.array([abs(potencia)]) #features potencia convertido a array\n",
        "        predict = self.clf.predict(test) #clasifica el trial n correspondiente a la clase en cuestion por el bucle for\n",
        "        print(f'Trial {trialC+1}: {estimulos[predict[0]]} Hz') #Imprime la predicción para el trial en cuestion\n",
        "\n",
        "        #Recordar que etiquetamos los datos a partir del INDEX de la lista estimulos, por lo que para saber a que \n",
        "        #frecuencia corresponde la clasificacion hay que consultar a que frecuencuencia corresponde el INDEX en la lista estimulos"
      ],
      "execution_count": null,
      "outputs": []
    },
    {
      "cell_type": "markdown",
      "metadata": {
        "id": "yoxS4YbjbNR7"
      },
      "source": [
        "En la siguiente celda se ejecutará el entrenamiento y clasificación de los datos SSVEPs correspondientes a la consigna.\n",
        "\n",
        "Solo se deben ingresar los directorios correspondientes a los datos de entrenamiento y clasificación. Evitar tocar los otros valores y Run."
      ]
    },
    {
      "cell_type": "code",
      "metadata": {
        "id": "sVLY8cgtdDh-"
      },
      "source": [
        "directorioTrain = '' #aqui se debe ingresar entre las comillas el directorio del archivo .mat correspondiente a los datos para \n",
        "                     #entrenar nuestra SVM\n",
        "directorioClasificacion = '' #aqui se debe ingresar entre las comillas el directorio del archivo .mat correspondiente a los datos a\n",
        "                              #clasificar\n",
        "fm = 256 #frecuencia de muestreo. NO TOCAR\n",
        "lfrec = 7 #frecuencia de corte baja para el filtro. NO TOCAR\n",
        "hfrec = 45 #frecuencia de corte alta para el filtro. NO TOCAR\n",
        "orden = 6 #orden del filtro. NO TOCAR\n",
        "utilSamples = 200 #muestras utiles para la FFT. NO TOCAR\n",
        "estimulos = [9.25, 11.25, 13.25, 9.75, 11.75, 13.75, 10.25, 12.25, 14.25, 10.75, 12.75, 14.75] #lista con las frecuencias de los estímulos\n",
        "#NO TOCAR\n",
        "\n",
        "suportVectomashin = SVM() #objeto de nuestra clase SVM()\n",
        "suportVectomashin.train(directorioTrain) #método para entrenar a partir de los datos\n",
        "suportVectomashin.classify(directorioClasificacion) #metodo que clasifica los datos"
      ],
      "execution_count": null,
      "outputs": []
    }
  ]
}